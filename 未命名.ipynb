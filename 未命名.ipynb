{
 "cells": [
  {
   "cell_type": "code",
   "execution_count": 1,
   "metadata": {},
   "outputs": [
    {
     "name": "stdout",
     "output_type": "stream",
     "text": [
      "[1] 0.5671425\n",
      "[1] 17\n"
     ]
    }
   ],
   "source": [
    "mbisec <- function(f,a,b,ep=1e-5){\n",
    "  #二分法求根\n",
    "  x <- (a+b)/2\n",
    "  k <- 0\n",
    "  while(abs(f(x)) > ep || b-a >ep){\n",
    "    if(f(x) * f(a) <0){\n",
    "      b = x\n",
    "    } else {\n",
    "      a = x\n",
    "    }\n",
    "    x = (a+b)/2\n",
    "    k <- k + 1\n",
    "  }\n",
    "  print(x)\n",
    "  print(k)\n",
    "}\n",
    "\n",
    "my_fun <- function(x){\n",
    "  x - exp(-x)\n",
    "}\n",
    "\n",
    "mbisec(f=my_fun,a=0,b=1)"
   ]
  },
  {
   "cell_type": "code",
   "execution_count": 51,
   "metadata": {},
   "outputs": [],
   "source": [
    "mgauss <- function(A,b,flag=0){\n",
    "    \"\n",
    "    Function: Solving Ax=b using Order Gaussian elimination\n",
    "    Input:\n",
    "        A: coefficient matrix\n",
    "        b: coefficient vector\n",
    "    Process: Order Gaussian elimination\n",
    "    Output:\n",
    "        x: the solution of Ax=b\n",
    "    \"\n",
    "    \n",
    "    \"\n",
    "    #elimination\n",
    "    n=length(b)\n",
    "    for (k in 1:(n-1)) {\n",
    "        m = A[k+1:n,k]/A[k,k]\n",
    "        A[k+1:n,k+1:n] = A[k+1:n,k+1:n]-m %*% A[k,k+1:n]\n",
    "        b[k+1:n] = b[k+1:n]-m %*% b[k];\n",
    "        A[k+1:n,k] = matrix(0,n-k,1)\n",
    "        if (flag != 0) {print(cbind(A,b))}\n",
    "    }\n",
    "\n",
    "    #return\n",
    "    x = matrix(0,n,1)\n",
    "    x[n] = b[n]/A[n,n]\n",
    "    for (k in seq(n-1,1)) {\n",
    "        x[k] = (b[k]-A[k,k+1:n] %*% x[k+1:n])/A[k,k]\n",
    "    }\n",
    "\n",
    "    return(x)\n",
    "    \"\n",
    "    \n",
    "    n=length(b);\n",
    "    #elimination\n",
    "    #m=matrix(0,n,n)\n",
    "    for (k in seq(1,n-1)){\n",
    "        for (i in seq(k+1,n)){\n",
    "            A[i,k]=A[i,k]/A[k,k]\n",
    "            for (j in seq(k+1,n)){\n",
    "                A[i,j]=A[i,j]-A[i,k] * A[k,j]\n",
    "            }\n",
    "            b[i] = b[i]-A[i,k]*b[k]\n",
    "        }\n",
    "    }\n",
    "    #print(A)\n",
    "    #return\n",
    "    x=matrix(0,n,1);\n",
    "    x[n]=b[n]/A[n,n];\n",
    "    for (k in seq(n-1,1)){\n",
    "        s=b[k]\n",
    "        for (j in seq(k+1,n)){\n",
    "            s = s - A[k,j]*x[j]\n",
    "        }\n",
    "        x[k]=s/A[k,k]\n",
    "    }\n",
    "    return(x)    \n",
    "}\n"
   ]
  },
  {
   "cell_type": "code",
   "execution_count": 52,
   "metadata": {},
   "outputs": [
    {
     "data": {
      "text/html": [
       "<table>\n",
       "<tbody>\n",
       "\t<tr><td>1</td></tr>\n",
       "\t<tr><td>2</td></tr>\n",
       "\t<tr><td>3</td></tr>\n",
       "\t<tr><td>4</td></tr>\n",
       "</tbody>\n",
       "</table>\n"
      ],
      "text/latex": [
       "\\begin{tabular}{l}\n",
       "\t 1\\\\\n",
       "\t 2\\\\\n",
       "\t 3\\\\\n",
       "\t 4\\\\\n",
       "\\end{tabular}\n"
      ],
      "text/markdown": [
       "\n",
       "| 1 |\n",
       "| 2 |\n",
       "| 3 |\n",
       "| 4 |\n",
       "\n"
      ],
      "text/plain": [
       "     [,1]\n",
       "[1,] 1   \n",
       "[2,] 2   \n",
       "[3,] 3   \n",
       "[4,] 4   "
      ]
     },
     "metadata": {},
     "output_type": "display_data"
    }
   ],
   "source": [
    "A = rbind(c(1,1,1,1),c(-1,2,-3,1),c(3,-3,6,-2),c(-4,5,2,-3))\n",
    "A = as.matrix(A)\n",
    "b = matrix(c(10,-2,7,0))\n",
    "x = mgauss(A,b)\n",
    "x"
   ]
  },
  {
   "cell_type": "code",
   "execution_count": 56,
   "metadata": {},
   "outputs": [
    {
     "name": "stdout",
     "output_type": "stream",
     "text": [
      "     [,1]\n",
      "[1,]    1\n",
      "[2,]    2\n",
      "[3,]    3\n",
      "[4,]    4\n",
      "          [,1]\n",
      "[1,] 0.9921569\n",
      "[2,] 2.0078431\n",
      "[3,] 3.0058824\n",
      "[4,] 3.9941176\n",
      "          [,1]\n",
      "[1,] 0.9992157\n",
      "[2,] 2.0007843\n",
      "[3,] 3.0005882\n",
      "[4,] 3.9994118\n",
      "          [,1]\n",
      "[1,] 0.9999216\n",
      "[2,] 2.0000784\n",
      "[3,] 3.0000588\n",
      "[4,] 3.9999412\n",
      "          [,1]\n",
      "[1,] 0.9999922\n",
      "[2,] 2.0000078\n",
      "[3,] 3.0000059\n",
      "[4,] 3.9999941\n"
     ]
    }
   ],
   "source": [
    "for (k in c(0,0.1,0.01,0.001,0.0001)){\n",
    "    #mgauss(A,c(10,-2,7,k))\n",
    "    #print(c(10,-2,7,k))\n",
    "    print(mgauss(A,c(10,-2,7,k)))\n",
    "}"
   ]
  },
  {
   "cell_type": "code",
   "execution_count": 22,
   "metadata": {},
   "outputs": [
    {
     "data": {
      "text/html": [
       "<table>\n",
       "<tbody>\n",
       "\t<tr><td> 1</td><td> 1</td><td> 1</td><td> 1</td></tr>\n",
       "\t<tr><td>-1</td><td> 2</td><td>-3</td><td> 1</td></tr>\n",
       "\t<tr><td> 3</td><td>-3</td><td> 6</td><td>-2</td></tr>\n",
       "\t<tr><td>-4</td><td> 5</td><td> 2</td><td>-3</td></tr>\n",
       "</tbody>\n",
       "</table>\n"
      ],
      "text/latex": [
       "\\begin{tabular}{llll}\n",
       "\t  1 &  1 &  1 &  1\\\\\n",
       "\t -1 &  2 & -3 &  1\\\\\n",
       "\t  3 & -3 &  6 & -2\\\\\n",
       "\t -4 &  5 &  2 & -3\\\\\n",
       "\\end{tabular}\n"
      ],
      "text/markdown": [
       "\n",
       "|  1 |  1 |  1 |  1 |\n",
       "| -1 |  2 | -3 |  1 |\n",
       "|  3 | -3 |  6 | -2 |\n",
       "| -4 |  5 |  2 | -3 |\n",
       "\n"
      ],
      "text/plain": [
       "     [,1] [,2] [,3] [,4]\n",
       "[1,]  1    1    1    1  \n",
       "[2,] -1    2   -3    1  \n",
       "[3,]  3   -3    6   -2  \n",
       "[4,] -4    5    2   -3  "
      ]
     },
     "metadata": {},
     "output_type": "display_data"
    },
    {
     "data": {
      "text/html": [
       "<table>\n",
       "<tbody>\n",
       "\t<tr><td>10</td></tr>\n",
       "\t<tr><td>-2</td></tr>\n",
       "\t<tr><td> 7</td></tr>\n",
       "\t<tr><td> 0</td></tr>\n",
       "</tbody>\n",
       "</table>\n"
      ],
      "text/latex": [
       "\\begin{tabular}{l}\n",
       "\t 10\\\\\n",
       "\t -2\\\\\n",
       "\t  7\\\\\n",
       "\t  0\\\\\n",
       "\\end{tabular}\n"
      ],
      "text/markdown": [
       "\n",
       "| 10 |\n",
       "| -2 |\n",
       "|  7 |\n",
       "|  0 |\n",
       "\n"
      ],
      "text/plain": [
       "     [,1]\n",
       "[1,] 10  \n",
       "[2,] -2  \n",
       "[3,]  7  \n",
       "[4,]  0  "
      ]
     },
     "metadata": {},
     "output_type": "display_data"
    }
   ],
   "source": [
    "A\n",
    "b"
   ]
  },
  {
   "cell_type": "code",
   "execution_count": 21,
   "metadata": {},
   "outputs": [
    {
     "data": {
      "text/html": [
       "<table>\n",
       "<tbody>\n",
       "\t<tr><td> 15</td></tr>\n",
       "\t<tr><td>-35</td></tr>\n",
       "\t<tr><td> 78</td></tr>\n",
       "\t<tr><td>-36</td></tr>\n",
       "</tbody>\n",
       "</table>\n"
      ],
      "text/latex": [
       "\\begin{tabular}{l}\n",
       "\t  15\\\\\n",
       "\t -35\\\\\n",
       "\t  78\\\\\n",
       "\t -36\\\\\n",
       "\\end{tabular}\n"
      ],
      "text/markdown": [
       "\n",
       "|  15 |\n",
       "| -35 |\n",
       "|  78 |\n",
       "| -36 |\n",
       "\n"
      ],
      "text/plain": [
       "     [,1]\n",
       "[1,]  15 \n",
       "[2,] -35 \n",
       "[3,]  78 \n",
       "[4,] -36 "
      ]
     },
     "metadata": {},
     "output_type": "display_data"
    }
   ],
   "source": [
    "A %*% b"
   ]
  },
  {
   "cell_type": "code",
   "execution_count": 23,
   "metadata": {},
   "outputs": [
    {
     "data": {
      "text/html": [
       "-4"
      ],
      "text/latex": [
       "-4"
      ],
      "text/markdown": [
       "-4"
      ],
      "text/plain": [
       "[1] -4"
      ]
     },
     "metadata": {},
     "output_type": "display_data"
    }
   ],
   "source": [
    "A[4:4,1]"
   ]
  },
  {
   "cell_type": "code",
   "execution_count": 29,
   "metadata": {},
   "outputs": [
    {
     "ename": "ERROR",
     "evalue": "Error in A[k + 1:n, k + 1:n]: 下标出界\n",
     "output_type": "error",
     "traceback": [
      "Error in A[k + 1:n, k + 1:n]: 下标出界\nTraceback:\n"
     ]
    }
   ],
   "source": [
    "n=length(b)\n",
    "for (k in c(1:(n-1))){\n",
    "    m=A[k+1:n,k]/A[k,k];\n",
    "    A[k+1:n,k+1:n]=A[k+1:n,k+1:n]-m%*%A[k,k+1:n];\n",
    "    b[k+1:n]=b[k+1:n]-m%*%b[k];\n",
    "    A[k+1:n,k]=matrix(0,n-k,1);\n",
    "}"
   ]
  },
  {
   "cell_type": "code",
   "execution_count": null,
   "metadata": {},
   "outputs": [],
   "source": []
  }
 ],
 "metadata": {
  "kernelspec": {
   "display_name": "R",
   "language": "R",
   "name": "ir"
  },
  "language_info": {
   "codemirror_mode": "r",
   "file_extension": ".r",
   "mimetype": "text/x-r-source",
   "name": "R",
   "pygments_lexer": "r",
   "version": "3.5.2"
  }
 },
 "nbformat": 4,
 "nbformat_minor": 2
}
