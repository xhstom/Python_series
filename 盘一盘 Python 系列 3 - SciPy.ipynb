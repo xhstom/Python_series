{
 "cells": [
  {
   "cell_type": "markdown",
   "metadata": {},
   "source": [
    "# 前言\n",
    "这篇科学计算 SciPy 包的学习只是一个入门的学习，其还有更多的应用(统计，矩阵等)。\n",
    "\n",
    "> [盘一盘 Python 系列 3 - SciPy](https://mp.weixin.qq.com/s/u-J4_yaUxXOkve29rv51sg) [官网](https://www.scipy.org)\n",
    "\n",
    "三个具体应用:\n",
    "+ 插值(interpolation)\n",
    "+ 积分(intergration)\n",
    "+ 优化(optimization)\n",
    "\n",
    "例子:\n",
    "+ 简单例子\n",
    "+ 金融例子\n",
    "+ + 计算远期利率: 在零息曲线中插值折现因子\n",
    "+ + 计算期权价格: 将期望写成积分并数值求解\n",
    "+ + 配置资产权重: 优化 风险平价 模型权重\n",
    "\n",
    "# 1. 插值\n",
    "在数值分析中有详细的介绍，这里不多赘言，看具体例子。"
   ]
  },
  {
   "cell_type": "code",
   "execution_count": 46,
   "metadata": {},
   "outputs": [],
   "source": [
    "import scipy as sp\n",
    "import scipy.interpolate as spi"
   ]
  },
  {
   "cell_type": "markdown",
   "metadata": {},
   "source": [
    "## 简单例子\n",
    "利用 scipy.interpolate 插值 $\\sin(x) +0.5x$\n",
    "\n",
    "### 基本概念"
   ]
  },
  {
   "cell_type": "code",
   "execution_count": 47,
   "metadata": {},
   "outputs": [
    {
     "data": {
      "text/plain": [
       "array([-3.14159265, -1.56221761, -1.29717034, -1.84442231, -1.57937505,\n",
       "        0.        ,  1.57937505,  1.84442231,  1.29717034,  1.56221761,\n",
       "        3.14159265])"
      ]
     },
     "execution_count": 47,
     "metadata": {},
     "output_type": "execute_result"
    }
   ],
   "source": [
    "import numpy as np\n",
    "\n",
    "#先定义函数\n",
    "x = np.linspace(-2 * np.pi, 2 * np.pi, 11)\n",
    "f = lambda x: np.sin(x) + 0.5 * x\n",
    "f(x)"
   ]
  },
  {
   "cell_type": "markdown",
   "metadata": {},
   "source": [
    "scipy.interpolate 中两个函数:\n",
    "+ splrep: representation 缩写 生成表示样条的对象\n",
    "+ splev: evaluation 缩写 在样条上估值, 求在某点处的值\n",
    "\n",
    "区别：\n",
    "+ x, y 和插值方式转换成 样条对象 tck(节点, 系数, 阶数)\n",
    "+ 后者利用 x 生成 y\n",
    "\n",
    "tck意思:\n",
    "+ t: vector of knots(节点)\n",
    "+ c: spline cofficients(系数)\n",
    "+ k: degree of spline(阶数)\n",
    "\n",
    "从下面的 tck 返回的值可以看出：\n",
    "+ 第一个 array 是节点\n",
    "+ 第二个 array 是系数\n",
    "+ 标量 1 是阶数"
   ]
  },
  {
   "cell_type": "code",
   "execution_count": 48,
   "metadata": {},
   "outputs": [
    {
     "data": {
      "text/plain": [
       "(array([-6.28318531, -6.28318531, -5.02654825, -3.76991118, -2.51327412,\n",
       "        -1.25663706,  0.        ,  1.25663706,  2.51327412,  3.76991118,\n",
       "         5.02654825,  6.28318531,  6.28318531]),\n",
       " array([-3.14159265, -1.56221761, -1.29717034, -1.84442231, -1.57937505,\n",
       "         0.        ,  1.57937505,  1.84442231,  1.29717034,  1.56221761,\n",
       "         3.14159265,  0.        ,  0.        ]),\n",
       " 1)"
      ]
     },
     "execution_count": 48,
     "metadata": {},
     "output_type": "execute_result"
    }
   ],
   "source": [
    "tck = spi.splrep(x, f(x), k=1)\n",
    "tck"
   ]
  },
  {
   "cell_type": "code",
   "execution_count": 49,
   "metadata": {},
   "outputs": [
    {
     "data": {
      "text/plain": [
       "array([-6.28318531, -5.02654825, -3.76991118, -2.51327412, -1.25663706,\n",
       "        0.        ,  1.25663706,  2.51327412,  3.76991118,  5.02654825,\n",
       "        6.28318531])"
      ]
     },
     "execution_count": 49,
     "metadata": {},
     "output_type": "execute_result"
    }
   ],
   "source": [
    "x"
   ]
  },
  {
   "cell_type": "code",
   "execution_count": 50,
   "metadata": {},
   "outputs": [
    {
     "data": {
      "text/plain": [
       "array([[ 1.25682673, -3.14159265],\n",
       "       [ 1.25682673, -3.14159265],\n",
       "       [ 0.21091791, -1.56221761],\n",
       "       [-0.43548928, -1.29717034],\n",
       "       [ 0.21091791, -1.84442231],\n",
       "       [ 1.25682673, -1.57937505],\n",
       "       [ 1.25682673,  0.        ],\n",
       "       [ 0.21091791,  1.57937505],\n",
       "       [-0.43548928,  1.84442231],\n",
       "       [ 0.21091791,  1.29717034],\n",
       "       [ 1.25682673,  1.56221761],\n",
       "       [ 1.25682673,  3.14159265]])"
      ]
     },
     "execution_count": 50,
     "metadata": {},
     "output_type": "execute_result"
    }
   ],
   "source": [
    "#查看分段函数系数\n",
    "pp = spi.PPoly.from_spline(tck)\n",
    "pp.c.T"
   ]
  },
  {
   "cell_type": "code",
   "execution_count": 51,
   "metadata": {},
   "outputs": [
    {
     "data": {
      "text/plain": [
       "<scipy.interpolate.interpolate.PPoly at 0x265e6d9c678>"
      ]
     },
     "execution_count": 51,
     "metadata": {},
     "output_type": "execute_result"
    }
   ],
   "source": [
    "pp"
   ]
  },
  {
   "cell_type": "code",
   "execution_count": 52,
   "metadata": {},
   "outputs": [
    {
     "data": {
      "text/plain": [
       "array([-3.14159265, -1.56221761, -1.29717034, -1.84442231, -1.57937505,\n",
       "        0.        ,  1.57937505,  1.84442231,  1.29717034,  1.56221761,\n",
       "        3.14159265])"
      ]
     },
     "execution_count": 52,
     "metadata": {},
     "output_type": "execute_result"
    }
   ],
   "source": [
    "#对应的值\n",
    "iy = spi.splev(x,tck)\n",
    "iy"
   ]
  },
  {
   "cell_type": "code",
   "execution_count": 53,
   "metadata": {},
   "outputs": [
    {
     "data": {
      "image/png": "[encoded data removed]",
      "text/plain": [
       "<Figure size 640x320 with 1 Axes>"
      ]
     },
     "metadata": {
      "needs_background": "light"
     },
     "output_type": "display_data"
    }
   ],
   "source": [
    "import matplotlib.pyplot as plt\n",
    "%matplotlib inline\n",
    "\n",
    "plt.figure(figsize=(8,4),dpi=80)\n",
    "x_ = np.linspace(-2 * np.pi, 2 * np.pi, 1000)\n",
    "plt.plot(x_, f(x_), color = 'blue', linewidth=2.5, label='true value')\n",
    "plt.scatter(x, iy, 30, color='red', label='interpolated value')\n",
    "plt.legend(loc=0)\n",
    "plt.grid(True)\n",
    "plt.xlabel('x')\n",
    "plt.ylabel('f(x)')\n",
    "plt.show()"
   ]
  },
  {
   "cell_type": "code",
   "execution_count": 54,
   "metadata": {},
   "outputs": [
    {
     "data": {
      "text/plain": [
       "True"
      ]
     },
     "execution_count": 54,
     "metadata": {},
     "output_type": "execute_result"
    }
   ],
   "source": [
    "#利用具体的数值来评估插值效果\n",
    "np.allclose(f(x), iy)"
   ]
  },
  {
   "cell_type": "code",
   "execution_count": 55,
   "metadata": {},
   "outputs": [
    {
     "data": {
      "text/plain": [
       "0.0"
      ]
     },
     "execution_count": 55,
     "metadata": {},
     "output_type": "execute_result"
    }
   ],
   "source": [
    "np.sum((f(x) - iy) ** 2) / len(x)"
   ]
  },
  {
   "cell_type": "markdown",
   "metadata": {},
   "source": [
    "### 正规例子"
   ]
  },
  {
   "cell_type": "code",
   "execution_count": 56,
   "metadata": {},
   "outputs": [
    {
     "name": "stdout",
     "output_type": "stream",
     "text": [
      "[1.         1.04081633 1.08163265 1.12244898 1.16326531 1.20408163\n",
      " 1.24489796 1.28571429 1.32653061 1.36734694 1.40816327 1.44897959\n",
      " 1.48979592 1.53061224 1.57142857 1.6122449  1.65306122 1.69387755\n",
      " 1.73469388 1.7755102  1.81632653 1.85714286 1.89795918 1.93877551\n",
      " 1.97959184 2.02040816 2.06122449 2.10204082 2.14285714 2.18367347\n",
      " 2.2244898  2.26530612 2.30612245 2.34693878 2.3877551  2.42857143\n",
      " 2.46938776 2.51020408 2.55102041 2.59183673 2.63265306 2.67346939\n",
      " 2.71428571 2.75510204 2.79591837 2.83673469 2.87755102 2.91836735\n",
      " 2.95918367 3.        ] \n",
      "\n",
      " [1.25682673 1.30812578 1.35942483 1.41072388 1.46202293 1.51332198\n",
      " 1.56462103 1.58550795 1.59411685 1.60272574 1.61133464 1.61994353\n",
      " 1.62855243 1.63716132 1.64577022 1.65437911 1.662988   1.6715969\n",
      " 1.68020579 1.68881469 1.69742358 1.70603248 1.71464137 1.72325027\n",
      " 1.73185916 1.74046805 1.74907695 1.75768584 1.76629474 1.77490363\n",
      " 1.78351253 1.79212142 1.80073031 1.80933921 1.8179481  1.826557\n",
      " 1.83516589 1.84377479 1.82798421 1.81020914 1.79243407 1.77465899\n",
      " 1.75688392 1.73910885 1.72133377 1.7035587  1.68578363 1.66800856\n",
      " 1.65023348 1.63245841]\n"
     ]
    }
   ],
   "source": [
    "xd = np.linspace(1.0, 3.0, 50)\n",
    "iyd = spi.splev(xd, tck)\n",
    "print(xd, '\\n\\n', iyd)"
   ]
  },
  {
   "cell_type": "code",
   "execution_count": 57,
   "metadata": {},
   "outputs": [
    {
     "data": {
      "image/png": "[encoded data removed]",
      "text/plain": [
       "<Figure size 640x320 with 1 Axes>"
      ]
     },
     "metadata": {
      "needs_background": "light"
     },
     "output_type": "display_data"
    }
   ],
   "source": [
    "plt.figure(figsize=(8, 4), dpi=80)\n",
    "plt.plot(xd, f(xd), color='blue', linewidth=2.5, label='true value')\n",
    "plt.scatter(xd, iyd, 30, color='red', label='interpolated value')\n",
    "plt.legend(loc=0)\n",
    "plt.grid(True)\n",
    "plt.xlabel('x')\n",
    "plt.ylabel('f(x)')\n",
    "plt.show()"
   ]
  },
  {
   "cell_type": "code",
   "execution_count": 58,
   "metadata": {},
   "outputs": [
    {
     "data": {
      "text/plain": [
       "0.011206417290260647"
      ]
     },
     "execution_count": 58,
     "metadata": {},
     "output_type": "execute_result"
    }
   ],
   "source": [
    "np.sum((f(xd) - iyd) ** 2) / len(xd)"
   ]
  },
  {
   "cell_type": "code",
   "execution_count": 59,
   "metadata": {},
   "outputs": [],
   "source": [
    "#用三次样条插值\n",
    "tck = spi.splrep(x, f(x), k=3)\n",
    "iyd = spi.splev(xd, tck)"
   ]
  },
  {
   "cell_type": "code",
   "execution_count": 60,
   "metadata": {},
   "outputs": [
    {
     "data": {
      "image/png": "[encoded data removed]",
      "text/plain": [
       "<Figure size 640x320 with 1 Axes>"
      ]
     },
     "metadata": {
      "needs_background": "light"
     },
     "output_type": "display_data"
    }
   ],
   "source": [
    "plt.figure(figsize=(8, 4), dpi=80)\n",
    "plt.plot(xd, f(xd), color='blue', linewidth=2.5, label='true value')\n",
    "plt.scatter(xd, iyd, 30, color='red', label='interpolated value')\n",
    "plt.legend(loc=0)\n",
    "plt.grid(True)\n",
    "plt.xlabel('x')\n",
    "plt.ylabel('f(x)')\n",
    "plt.show()"
   ]
  },
  {
   "cell_type": "code",
   "execution_count": 61,
   "metadata": {},
   "outputs": [
    {
     "data": {
      "text/plain": [
       "7.306021444191156e-05"
      ]
     },
     "execution_count": 61,
     "metadata": {},
     "output_type": "execute_result"
    }
   ],
   "source": [
    "np.sum((f(xd) - iyd) ** 2) /len(x)"
   ]
  },
  {
   "cell_type": "markdown",
   "metadata": {},
   "source": [
    "## 金融例子\n",
    "利用 scipy.interpolate 进行插值折现因子来计算远期利率"
   ]
  },
  {
   "cell_type": "code",
   "execution_count": 62,
   "metadata": {},
   "outputs": [
    {
     "data": {
      "text/html": [
       "<div>\n",
       "<style scoped>\n",
       "    .dataframe tbody tr th:only-of-type {\n",
       "        vertical-align: middle;\n",
       "    }\n",
       "\n",
       "    .dataframe tbody tr th {\n",
       "        vertical-align: top;\n",
       "    }\n",
       "\n",
       "    .dataframe thead th {\n",
       "        text-align: right;\n",
       "    }\n",
       "</style>\n",
       "<table border=\"1\" class=\"dataframe\">\n",
       "  <thead>\n",
       "    <tr style=\"text-align: right;\">\n",
       "      <th></th>\n",
       "      <th>Date</th>\n",
       "      <th>Discount Factor</th>\n",
       "      <th>Zero Rate(%)</th>\n",
       "    </tr>\n",
       "  </thead>\n",
       "  <tbody>\n",
       "    <tr>\n",
       "      <th>0</th>\n",
       "      <td>2019-04-03</td>\n",
       "      <td>0.999905</td>\n",
       "      <td>1.73</td>\n",
       "    </tr>\n",
       "    <tr>\n",
       "      <th>1</th>\n",
       "      <td>2019-04-10</td>\n",
       "      <td>0.999565</td>\n",
       "      <td>1.76</td>\n",
       "    </tr>\n",
       "    <tr>\n",
       "      <th>2</th>\n",
       "      <td>2019-05-03</td>\n",
       "      <td>0.998324</td>\n",
       "      <td>1.91</td>\n",
       "    </tr>\n",
       "    <tr>\n",
       "      <th>3</th>\n",
       "      <td>2019-06-03</td>\n",
       "      <td>0.996434</td>\n",
       "      <td>2.07</td>\n",
       "    </tr>\n",
       "    <tr>\n",
       "      <th>4</th>\n",
       "      <td>2019-07-03</td>\n",
       "      <td>0.993978</td>\n",
       "      <td>2.17</td>\n",
       "    </tr>\n",
       "    <tr>\n",
       "      <th>5</th>\n",
       "      <td>2019-10-03</td>\n",
       "      <td>0.985531</td>\n",
       "      <td>2.48</td>\n",
       "    </tr>\n",
       "    <tr>\n",
       "      <th>6</th>\n",
       "      <td>2020-01-03</td>\n",
       "      <td>0.978066</td>\n",
       "      <td>2.92</td>\n",
       "    </tr>\n",
       "    <tr>\n",
       "      <th>7</th>\n",
       "      <td>2020-04-03</td>\n",
       "      <td>0.970684</td>\n",
       "      <td>3.05</td>\n",
       "    </tr>\n",
       "    <tr>\n",
       "      <th>8</th>\n",
       "      <td>2021-04-03</td>\n",
       "      <td>0.942104</td>\n",
       "      <td>3.27</td>\n",
       "    </tr>\n",
       "  </tbody>\n",
       "</table>\n",
       "</div>"
      ],
      "text/plain": [
       "        Date  Discount Factor  Zero Rate(%)\n",
       "0 2019-04-03         0.999905          1.73\n",
       "1 2019-04-10         0.999565          1.76\n",
       "2 2019-05-03         0.998324          1.91\n",
       "3 2019-06-03         0.996434          2.07\n",
       "4 2019-07-03         0.993978          2.17\n",
       "5 2019-10-03         0.985531          2.48\n",
       "6 2020-01-03         0.978066          2.92\n",
       "7 2020-04-03         0.970684          3.05\n",
       "8 2021-04-03         0.942104          3.27"
      ]
     },
     "execution_count": 62,
     "metadata": {},
     "output_type": "execute_result"
    }
   ],
   "source": [
    "import pandas as pd\n",
    "curve = pd.read_excel('CNY zero curve.xlsx')\n",
    "curve"
   ]
  },
  {
   "cell_type": "code",
   "execution_count": 63,
   "metadata": {},
   "outputs": [
    {
     "data": {
      "image/png": "[encoded data removed]",
      "text/plain": [
       "<Figure size 640x320 with 2 Axes>"
      ]
     },
     "metadata": {
      "needs_background": "light"
     },
     "output_type": "display_data"
    }
   ],
   "source": [
    "fig, ax1 = plt.subplots(figsize=(8,4),dpi=80)\n",
    "plt.plot(curve['Date'], curve['Discount Factor'], color='blue', linewidth=2.5, label='Dsicount')\n",
    "plt.legend(loc=8)\n",
    "ax1.set_xticklabels(curve['Date'].dt.strftime('%Y-%m-%d'), rotation=45)\n",
    "plt.xlabel('Date')\n",
    "plt.ylabel('Discount Factor')\n",
    "plt.title('Zero Rate and Discount Factor Curves')\n",
    "\n",
    "ax2 = ax1.twinx()\n",
    "plt.plot(curve['Date'], curve['Zero Rate(%)'], color='red', linewidth=2.5, label='Zero Rate')\n",
    "plt.legend(loc=7)\n",
    "plt.ylabel('Zero Rate (%)')\n",
    "plt.show()"
   ]
  },
  {
   "cell_type": "markdown",
   "metadata": {},
   "source": [
    "$远期利率 = \\frac{1}{11月5日和8月5日的年限差} \\times \\left(\\frac{8月5日的折现因子}{11月5日的折现因子} - 1\\right)$"
   ]
  },
  {
   "cell_type": "code",
   "execution_count": 64,
   "metadata": {},
   "outputs": [
    {
     "data": {
      "text/plain": [
       "0     2 days\n",
       "1     9 days\n",
       "2    32 days\n",
       "3    63 days\n",
       "4    93 days\n",
       "5   185 days\n",
       "6   277 days\n",
       "7   368 days\n",
       "8   733 days\n",
       "Name: Date, dtype: timedelta64[ns]"
      ]
     },
     "execution_count": 64,
     "metadata": {},
     "output_type": "execute_result"
    }
   ],
   "source": [
    "today = pd.Timestamp('2019-04-01')\n",
    "daydiff = curve['Date'] - today\n",
    "daydiff"
   ]
  },
  {
   "cell_type": "code",
   "execution_count": 65,
   "metadata": {},
   "outputs": [
    {
     "data": {
      "text/plain": [
       "array([  2,   9,  32,  63,  93, 185, 277, 368, 733], dtype=int64)"
      ]
     },
     "execution_count": 65,
     "metadata": {},
     "output_type": "execute_result"
    }
   ],
   "source": [
    "d = daydiff.dt.days.values\n",
    "d"
   ]
  },
  {
   "cell_type": "code",
   "execution_count": 66,
   "metadata": {},
   "outputs": [
    {
     "name": "stdout",
     "output_type": "stream",
     "text": [
      "126 218\n"
     ]
    }
   ],
   "source": [
    "import datetime\n",
    "start = datetime.datetime.strptime('2019-08-05', '%Y-%m-%d')\n",
    "end = datetime.datetime.strptime('2019-11-05', '%Y-%m-%d')#转为 date 格式\n",
    "d_s = (start - today).days\n",
    "d_e = (end - today).days\n",
    "print(d_s, d_e)"
   ]
  },
  {
   "cell_type": "code",
   "execution_count": 67,
   "metadata": {},
   "outputs": [
    {
     "name": "stdout",
     "output_type": "stream",
     "text": [
      "0.9909485163586955 0.9828538247282609\n"
     ]
    }
   ],
   "source": [
    "tck  = spi.splrep(d, curve['Discount Factor'], k=1)\n",
    "DF_s = spi.splev(d_s, tck)\n",
    "DF_e = spi.splev(d_e, tck)\n",
    "print(DF_s, DF_e)"
   ]
  },
  {
   "cell_type": "code",
   "execution_count": 68,
   "metadata": {},
   "outputs": [
    {
     "name": "stdout",
     "output_type": "stream",
     "text": [
      "0.9909572007279145 0.9827493081776947\n"
     ]
    }
   ],
   "source": [
    "tck  = spi.splrep(d, curve['Discount Factor'], k=3)\n",
    "DF_s = spi.splev(d_s, tck)\n",
    "DF_e = spi.splev(d_e, tck)\n",
    "print(DF_s, DF_e)"
   ]
  },
  {
   "cell_type": "code",
   "execution_count": 69,
   "metadata": {},
   "outputs": [
    {
     "name": "stdout",
     "output_type": "stream",
     "text": [
      "0.9909402216227177 0.9828472940917621\n"
     ]
    }
   ],
   "source": [
    "tck = spi.splrep(d, np.log(curve['Discount Factor']), k=1)\n",
    "DF_s = np.exp(spi.splev(d_s, tck))\n",
    "DF_e = np.exp(spi.splev(d_e, tck))\n",
    "print(DF_s, DF_e)"
   ]
  },
  {
   "cell_type": "code",
   "execution_count": 70,
   "metadata": {},
   "outputs": [
    {
     "name": "stdout",
     "output_type": "stream",
     "text": [
      "0.9921561127170389 0.9843687685856376\n"
     ]
    }
   ],
   "source": [
    "tck = spi.splrep(d, curve['Zero Rate(%)'], k=1)\n",
    "r_s = spi.splev(d_s, tck)\n",
    "r_e = spi.splev(d_e, tck)\n",
    "DF_s = np.exp(-d_s/365 * r_s/100)\n",
    "DF_e = np.exp(-d_e/365 * r_e/100)\n",
    "print(DF_s, DF_e)"
   ]
  },
  {
   "cell_type": "code",
   "execution_count": 71,
   "metadata": {},
   "outputs": [
    {
     "data": {
      "text/plain": [
       "0.19777507119080884"
      ]
     },
     "execution_count": 71,
     "metadata": {},
     "output_type": "execute_result"
    }
   ],
   "source": [
    "F = 0.25 * (DF_s/DF_e - 1) * 100\n",
    "F"
   ]
  },
  {
   "cell_type": "markdown",
   "metadata": {},
   "source": [
    "# 2. 积分\n",
    "在 科学计算包 SciPy 包中, 可以利用命令 scipy.intergrate 来做数值积分\n",
    "\n",
    "## 简单例子\n",
    "计算函数 $\\sin(x) + 0.5x$ 的积分\n",
    "\n",
    "数值积分函数:\n",
    "+ fixed_quad: (fixed Gaussian quadrature)定点高斯积分\n",
    "+ quad: (adaptive quadrature)自适应积分\n",
    "+ romberg: (Romberg integration)龙贝格积分\n",
    "+ trapz: trapezoidal法则\n",
    "+ simps: Simpson法则"
   ]
  },
  {
   "cell_type": "code",
   "execution_count": 72,
   "metadata": {},
   "outputs": [
    {
     "data": {
      "text/plain": [
       "24.366995967084602"
      ]
     },
     "execution_count": 72,
     "metadata": {},
     "output_type": "execute_result"
    }
   ],
   "source": [
    "import scipy.integrate as sci\n",
    "\n",
    "f = lambda x: np.sin(x) + 0.5 * x\n",
    "a = 0.5\n",
    "b = 9.5\n",
    "sci.fixed_quad(f, a, b)[0]"
   ]
  },
  {
   "cell_type": "code",
   "execution_count": 73,
   "metadata": {},
   "outputs": [
    {
     "data": {
      "text/plain": [
       "24.374754718086752"
      ]
     },
     "execution_count": 73,
     "metadata": {},
     "output_type": "execute_result"
    }
   ],
   "source": [
    "sci.quad(f, a, b)[0]"
   ]
  },
  {
   "cell_type": "code",
   "execution_count": 74,
   "metadata": {},
   "outputs": [
    {
     "data": {
      "text/plain": [
       "24.374754718086713"
      ]
     },
     "execution_count": 74,
     "metadata": {},
     "output_type": "execute_result"
    }
   ],
   "source": [
    "sci.romberg(f, a, b)"
   ]
  },
  {
   "cell_type": "code",
   "execution_count": 75,
   "metadata": {},
   "outputs": [
    {
     "data": {
      "text/plain": [
       "24.373463386819818"
      ]
     },
     "execution_count": 75,
     "metadata": {},
     "output_type": "execute_result"
    }
   ],
   "source": [
    "xi = np.linspace(a, b, 100)#取 100 个点\n",
    "sci.trapz(f(xi), xi)"
   ]
  },
  {
   "cell_type": "code",
   "execution_count": 76,
   "metadata": {},
   "outputs": [
    {
     "data": {
      "text/plain": [
       "24.37474011548407"
      ]
     },
     "execution_count": 76,
     "metadata": {},
     "output_type": "execute_result"
    }
   ],
   "source": [
    "sci.simps(f(xi), xi)"
   ]
  },
  {
   "cell_type": "markdown",
   "metadata": {},
   "source": [
    "## 金融例子\n",
    "\n",
    "$B-S$ 公式, 金融数学中的例子"
   ]
  },
  {
   "cell_type": "code",
   "execution_count": 77,
   "metadata": {},
   "outputs": [],
   "source": [
    "#定义 B-S 解析解\n",
    "from scipy.stats import norm\n",
    "\n",
    "def bscall(S0, K, r, T, sigma):\n",
    "    \"\"\"\n",
    "    Function: 计算欧式看涨期权\n",
    "        S0: 初始股价\n",
    "        K: 执行价格\n",
    "        r: 利率\n",
    "        T: 期限\n",
    "        sigma: 波动率\n",
    "    \"\"\"\n",
    "    d1 = np.log(S0*np.exp(r*T)/K) / (sigma*np.sqrt(T)) + 0.5*sigma*np.sqrt(T)\n",
    "    d2 = np.log(S0*np.exp(r*T)/K) / (sigma*np.sqrt(T)) - 0.5*sigma*np.sqrt(T)\n",
    "    c = S0 * norm.cdf(d1) - np.exp(-r*T)*K*norm.cdf(d2) #cdf 计算正态累积分布函数\n",
    "    return c"
   ]
  },
  {
   "cell_type": "code",
   "execution_count": 78,
   "metadata": {},
   "outputs": [
    {
     "data": {
      "text/plain": [
       "10.405284289598569"
      ]
     },
     "execution_count": 78,
     "metadata": {},
     "output_type": "execute_result"
    }
   ],
   "source": [
    "(S0, K, r, T, sigma) = (100, 95, 0.05, 1, 0.1)\n",
    "bscall(S0, K, r, T, sigma)"
   ]
  },
  {
   "cell_type": "code",
   "execution_count": 79,
   "metadata": {},
   "outputs": [],
   "source": [
    "#利用数值积分计算\n",
    "mu = np.log(S0) + (r*T - 0.5*sigma ** 2 * T)\n",
    "v = sigma*np.sqrt(T)\n",
    "\n",
    "f = lambda x: np.exp(-r*T) * (np.exp(x) - K) * norm.pdf(x, mu, v)#密度函数\n",
    "#定义上下界\n",
    "(lb, ub) = (np.log(K), 7)"
   ]
  },
  {
   "cell_type": "code",
   "execution_count": 80,
   "metadata": {},
   "outputs": [
    {
     "data": {
      "text/plain": [
       "10.405284289598615"
      ]
     },
     "execution_count": 80,
     "metadata": {},
     "output_type": "execute_result"
    }
   ],
   "source": [
    "#计算数值积分\n",
    "sci.quad(f, lb, ub)[0]"
   ]
  },
  {
   "cell_type": "code",
   "execution_count": 81,
   "metadata": {},
   "outputs": [
    {
     "data": {
      "text/plain": [
       "10.405170993379011"
      ]
     },
     "execution_count": 81,
     "metadata": {},
     "output_type": "execute_result"
    }
   ],
   "source": [
    "xi = np.linspace(lb, ub, 1000)\n",
    "sci.trapz(f(xi), xi)"
   ]
  },
  {
   "cell_type": "code",
   "execution_count": 82,
   "metadata": {},
   "outputs": [
    {
     "data": {
      "text/plain": [
       "10.405287100064612"
      ]
     },
     "execution_count": 82,
     "metadata": {},
     "output_type": "execute_result"
    }
   ],
   "source": [
    "sci.simps(f(xi), xi)"
   ]
  },
  {
   "cell_type": "markdown",
   "metadata": {},
   "source": [
    "# 3. 优化\n",
    "\n",
    "+ 无约束问题\n",
    "+ 有约束问题\n",
    "\n",
    "scipy.optimize 用来优化\n",
    "\n",
    "## 简单例子\n",
    "\n",
    "例如用 scipy.optimize 求函数 $\\sin(x) + 0.05x^2 + \\sin(y) + 0.05y^2$ 的最小值"
   ]
  },
  {
   "cell_type": "code",
   "execution_count": 83,
   "metadata": {},
   "outputs": [],
   "source": [
    "import scipy.optimize as spo\n",
    "\n",
    "#定义函数\n",
    "f = lambda x,y: np.sin(x) + 0.05 * x ** 2 + np.sin(y) + 0.05 * y ** 2"
   ]
  },
  {
   "cell_type": "code",
   "execution_count": 84,
   "metadata": {},
   "outputs": [
    {
     "data": {
      "image/png": "[encoded data removed]",
      "text/plain": [
       "<Figure size 576x288 with 2 Axes>"
      ]
     },
     "metadata": {
      "needs_background": "light"
     },
     "output_type": "display_data"
    }
   ],
   "source": [
    "#可视化函数\n",
    "from mpl_toolkits.mplot3d import Axes3D\n",
    "\n",
    "x = np.linspace(-10, 10, 50)\n",
    "y = np.linspace(-10, 10, 50)\n",
    "X, Y = np.meshgrid(x,y)\n",
    "Z = f(X, Y)\n",
    "\n",
    "fig = plt.figure(figsize=(8, 4))\n",
    "ax = Axes3D(fig)\n",
    "\n",
    "surf = ax.plot_surface(X, Y, Z, cmap=plt.cm.coolwarm, antialiased=True)\n",
    "ax.set_xlabel('x')\n",
    "ax.set_ylabel('y')\n",
    "ax.set_zlabel('f(x, y)')\n",
    "fig.colorbar(surf, shrink=0.5, aspect=5)\n",
    "\n",
    "plt.show()"
   ]
  },
  {
   "cell_type": "markdown",
   "metadata": {},
   "source": [
    "### 第一步 蛮力求解函数最小值以及对应的参数"
   ]
  },
  {
   "cell_type": "code",
   "execution_count": 95,
   "metadata": {},
   "outputs": [],
   "source": [
    "def fo(xy):\n",
    "    x, y = xy\n",
    "    z = np.sin(x) + 0.05 * x ** 2 + np.sin(y) +0.05 * y ** 2\n",
    "    if output == True:\n",
    "        print(\"%8.4f %8.4f %8.4f\" % (x, y, z))\n",
    "    return z"
   ]
  },
  {
   "cell_type": "code",
   "execution_count": 96,
   "metadata": {},
   "outputs": [
    {
     "name": "stdout",
     "output_type": "stream",
     "text": [
      "-10.0000 -10.0000  11.0880\n",
      "-10.0000 -10.0000  11.0880\n",
      "-10.0000  -5.0000   7.7529\n",
      "-10.0000   0.0000   5.5440\n",
      "-10.0000   5.0000   5.8351\n",
      " -5.0000 -10.0000   7.7529\n",
      " -5.0000  -5.0000   4.4178\n",
      " -5.0000   0.0000   2.2089\n",
      " -5.0000   5.0000   2.5000\n",
      "  0.0000 -10.0000   5.5440\n",
      "  0.0000  -5.0000   2.2089\n",
      "  0.0000   0.0000   0.0000\n",
      "  0.0000   5.0000   0.2911\n",
      "  5.0000 -10.0000   5.8351\n",
      "  5.0000  -5.0000   2.5000\n",
      "  5.0000   0.0000   0.2911\n",
      "  5.0000   5.0000   0.5822\n"
     ]
    },
    {
     "data": {
      "text/plain": [
       "array([0., 0.])"
      ]
     },
     "execution_count": 96,
     "metadata": {},
     "output_type": "execute_result"
    }
   ],
   "source": [
    "output = True\n",
    "rranges = ((-10, 10, 5), (-10, 10, 5))#切片前闭后开\n",
    "spo.brute(fo, rranges, finish=None)#蛮力求解"
   ]
  },
  {
   "cell_type": "code",
   "execution_count": 98,
   "metadata": {},
   "outputs": [
    {
     "data": {
      "text/plain": [
       "array([-1.4, -1.4])"
      ]
     },
     "execution_count": 98,
     "metadata": {},
     "output_type": "execute_result"
    }
   ],
   "source": [
    "#修改步长\n",
    "output = False\n",
    "rrranges = ((-10, 10, 0.1), (-10, 10, 0.1))\n",
    "opt1 = spo.brute(fo, rrranges, finish=None)\n",
    "opt1"
   ]
  },
  {
   "cell_type": "code",
   "execution_count": 101,
   "metadata": {},
   "outputs": [
    {
     "data": {
      "text/plain": [
       "-1.7748994599769203"
      ]
     },
     "execution_count": 101,
     "metadata": {},
     "output_type": "execute_result"
    }
   ],
   "source": [
    "fo(opt1)"
   ]
  },
  {
   "cell_type": "markdown",
   "metadata": {},
   "source": [
    "### 第二步 把参数当初始值, 求函数全局最小值"
   ]
  },
  {
   "cell_type": "code",
   "execution_count": 102,
   "metadata": {},
   "outputs": [
    {
     "name": "stdout",
     "output_type": "stream",
     "text": [
      " -1.4000  -1.4000  -1.7749\n",
      " -1.4700  -1.4000  -1.7743\n",
      " -1.4000  -1.4700  -1.7743\n",
      " -1.3300  -1.4700  -1.7696\n",
      " -1.4350  -1.4175  -1.7756\n",
      " -1.4350  -1.3475  -1.7722\n",
      " -1.4088  -1.4394  -1.7755\n",
      " -1.4438  -1.4569  -1.7751\n",
      " -1.4328  -1.4427  -1.7756\n",
      " -1.4591  -1.4208  -1.7752\n",
      " -1.4213  -1.4347  -1.7757\n",
      " -1.4235  -1.4096  -1.7755\n",
      " -1.4305  -1.4344  -1.7757\n",
      " -1.4168  -1.4516  -1.7753\n",
      " -1.4305  -1.4260  -1.7757\n",
      " -1.4396  -1.4257  -1.7756\n",
      " -1.4259  -1.4325  -1.7757\n",
      " -1.4259  -1.4241  -1.7757\n",
      " -1.4304  -1.4177  -1.7757\n",
      " -1.4270  -1.4288  -1.7757\n",
      "Warning: Maximum number of function evaluations has been exceeded.\n"
     ]
    },
    {
     "data": {
      "text/plain": [
       "array([-1.42702972, -1.42876755])"
      ]
     },
     "execution_count": 102,
     "metadata": {},
     "output_type": "execute_result"
    }
   ],
   "source": [
    "output = True\n",
    "opt2 = spo.fmin(fo, opt1, xtol=0.001, ftol=0.001, maxiter=15, maxfun=20)\n",
    "opt2"
   ]
  },
  {
   "cell_type": "code",
   "execution_count": 103,
   "metadata": {},
   "outputs": [
    {
     "data": {
      "text/plain": [
       "-1.7757246992239009"
      ]
     },
     "execution_count": 103,
     "metadata": {},
     "output_type": "execute_result"
    }
   ],
   "source": [
    "output = False\n",
    "fo(opt2)"
   ]
  },
  {
   "cell_type": "code",
   "execution_count": 104,
   "metadata": {},
   "outputs": [
    {
     "name": "stdout",
     "output_type": "stream",
     "text": [
      "Optimization terminated successfully.\n",
      "         Current function value: 0.015826\n",
      "         Iterations: 46\n",
      "         Function evaluations: 86\n"
     ]
    },
    {
     "data": {
      "text/plain": [
       "array([4.2710728 , 4.27106945])"
      ]
     },
     "execution_count": 104,
     "metadata": {},
     "output_type": "execute_result"
    }
   ],
   "source": [
    "#使用 (2, 2) 作为初值看看会出现什么情况\n",
    "output = False\n",
    "opt3 = spo.fmin(fo, (2, 2), maxiter=250)\n",
    "opt3"
   ]
  },
  {
   "cell_type": "markdown",
   "metadata": {},
   "source": [
    "## 金融例子\n",
    "\n",
    "投资组合的例子.\n",
    "\n",
    "几个名词:\n",
    "+ RP(Risk Parity) 风险平价\n",
    "+ RB(Risk Budgeting) 风险预算\n",
    "\n",
    "\n",
    "权重\n",
    "$w_i = \\frac{\\frac{1}{\\beta_i}}{\\sum_{i=1}^n \\frac{1}{\\beta_i}}$\n",
    "\n",
    "RP 模型(具体解释见, 原文链接):\n",
    "$$\\min \\sum_{i=1}^n \\left[w_i\\beta_i - \\frac{1}{n} \\right]^2 \\\\ \n",
    "where \\quad\n",
    "\\left\\{ \\begin{array}{l}\n",
    "    \\bf{w}^T\\bf{1}=1\\\\\n",
    "    \\bf{0} \\le \\bf{w} \\le \\bf{1}\n",
    "\\end{array} \\right.\n",
    "$$"
   ]
  },
  {
   "cell_type": "code",
   "execution_count": 108,
   "metadata": {},
   "outputs": [],
   "source": [
    "#定义风险平价函数\n",
    "def risk_parity(sigma, rho):\n",
    "    n = len(sigma)\n",
    "    VCV = np.outer(sigma, sigma) * rho\n",
    "    s = np.ones(n) / n\n",
    "    w0 = np.ones(n) / n\n",
    "    \n",
    "    #定义对象函数\n",
    "    obj = lambda x: np.sum((x*np.dot(VCV,x) / np.dot(np.dot(x*sigma,rho), x*sigma) - s) ** 2)\n",
    "    #约束条件\n",
    "    cons = ({'type': 'eq', 'fun': lambda x: np.sum(x) - 1.0},\n",
    "           {'type': 'ineq', 'fun': lambda x: x})\n",
    "    w = spo.minimize(obj, w0, method='SLSQP', constraints=cons, tol=1e-10)\n",
    "    \n",
    "    return w"
   ]
  },
  {
   "cell_type": "markdown",
   "metadata": {},
   "source": [
    "### 两个资产\n",
    "\n",
    "股票和债券两个资产组合:\n",
    "+ 股票预期超额回报为 $10\\%$, 波动率为 $20\\%$\n",
    "+ 债券 $5\\%$, $10\\%$\n",
    "+ 相关系数为 $-10\\%$"
   ]
  },
  {
   "cell_type": "code",
   "execution_count": 109,
   "metadata": {},
   "outputs": [],
   "source": [
    "mu = np.array([0.1,0.05])\n",
    "sigma = np.array([0.2, 0.1])\n",
    "rho = np.array([[1, -0.1], [-0.1, 1]])"
   ]
  },
  {
   "cell_type": "code",
   "execution_count": 110,
   "metadata": {},
   "outputs": [
    {
     "data": {
      "text/plain": [
       "     fun: 3.26901989274624e-15\n",
       "     jac: array([-1.86742928e-07,  1.55459627e-07])\n",
       " message: 'Optimization terminated successfully.'\n",
       "    nfev: 22\n",
       "     nit: 5\n",
       "    njev: 5\n",
       "  status: 0\n",
       " success: True\n",
       "       x: array([0.33333332, 0.66666668])"
      ]
     },
     "execution_count": 110,
     "metadata": {},
     "output_type": "execute_result"
    }
   ],
   "source": [
    "result = risk_parity(sigma, rho)\n",
    "result"
   ]
  },
  {
   "cell_type": "code",
   "execution_count": 111,
   "metadata": {},
   "outputs": [
    {
     "data": {
      "text/plain": [
       "array([0.33333332, 0.66666668])"
      ]
     },
     "execution_count": 111,
     "metadata": {},
     "output_type": "execute_result"
    }
   ],
   "source": [
    "#权重\n",
    "result.x"
   ]
  },
  {
   "cell_type": "markdown",
   "metadata": {},
   "source": [
    "### 三个资产\n",
    "\n",
    "(超额回报, 波动率)\n",
    "\n",
    "+ 股票: (10%, 20%)\n",
    "+ 债券: (5%, 10%)\n",
    "+ 信贷: (10%, 15%)\n",
    "+ 股票与债券, 股票与信贷, 债券与信贷相关系数为 -10%, 30%, -30%"
   ]
  },
  {
   "cell_type": "code",
   "execution_count": 112,
   "metadata": {},
   "outputs": [],
   "source": [
    "mu = np.array([0.1, 0.05, 0.1])\n",
    "sigma = np.array([0.2, 0.1, 0.15])\n",
    "rho = np.array([[1, -0.1, 0.3], [-0.1, 1, -0.3], [0.3, -0.3, 1]])"
   ]
  },
  {
   "cell_type": "code",
   "execution_count": 113,
   "metadata": {},
   "outputs": [
    {
     "data": {
      "text/plain": [
       "     fun: 4.55968512617839e-15\n",
       "     jac: array([ 2.25968048e-05, -2.50637071e-05,  2.93531595e-05])\n",
       " message: 'Optimization terminated successfully.'\n",
       "    nfev: 39\n",
       "     nit: 7\n",
       "    njev: 7\n",
       "  status: 0\n",
       " success: True\n",
       "       x: array([0.19117648, 0.5147059 , 0.29411762])"
      ]
     },
     "execution_count": 113,
     "metadata": {},
     "output_type": "execute_result"
    }
   ],
   "source": [
    "result = risk_parity(sigma, rho)\n",
    "result"
   ]
  },
  {
   "cell_type": "code",
   "execution_count": 114,
   "metadata": {},
   "outputs": [
    {
     "data": {
      "text/plain": [
       "array([0.19117648, 0.5147059 , 0.29411762])"
      ]
     },
     "execution_count": 114,
     "metadata": {},
     "output_type": "execute_result"
    }
   ],
   "source": [
    "result.x"
   ]
  },
  {
   "cell_type": "markdown",
   "metadata": {},
   "source": [
    "# 4. 总结\n",
    "\n",
    "三个应用:\n",
    "+ scipy.interpolate 插值\n",
    "+ scipy.integrate 积分\n",
    "+ scipy.optimize 优化\n",
    "\n"
   ]
  },
  {
   "cell_type": "code",
   "execution_count": null,
   "metadata": {},
   "outputs": [],
   "source": []
  }
 ],
 "metadata": {
  "kernelspec": {
   "display_name": "Python 3",
   "language": "python",
   "name": "python3"
  },
  "language_info": {
   "codemirror_mode": {
    "name": "ipython",
    "version": 3
   },
   "file_extension": ".py",
   "mimetype": "text/x-python",
   "name": "python",
   "nbconvert_exporter": "python",
   "pygments_lexer": "ipython3",
   "version": "3.6.8"
  }
 },
 "nbformat": 4,
 "nbformat_minor": 2
}
