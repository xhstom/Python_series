{
 "cells": [
  {
   "cell_type": "markdown",
   "metadata": {},
   "source": [
    "# 前言\n",
    "继续上一节的学习，我要继续学习数组的变形和数组的计算。\n",
    "> [盘一盘 Python 系列2 - NumPy(下)](https://mp.weixin.qq.com/s/xNO8_6-6H-JrxzCqoFGcxQ)\n",
    "\n",
    "+ 数组的变形(重塑和打平，合并和分裂，元素重复和数组重复)\n",
    "+ 数组的计算(元素层面的计算，线性代数计算，广播机制计算)\n",
    "\n",
    "# 4. 数组的变形\n",
    "\n",
    "数组层面的操作(四大类)\n",
    "+ 重塑(reshape)和打平(ravel,flatten)\n",
    "+ 合并(concatenate,stack)和分裂(split)\n",
    "+ 重复(repeat)和拼接(tile)\n",
    "+ 其他操作(sort,insert,delete,copy)\n",
    "## 4.1 重塑和打平\n",
    "重塑和打平只改变数组的维度\n",
    "+ 重塑: 从低纬度到高纬度\n",
    "+ 打平: 从高纬度到低纬度\n",
    "\n",
    "### 重塑"
   ]
  },
  {
   "cell_type": "code",
   "execution_count": 1,
   "metadata": {},
   "outputs": [
    {
     "name": "stdout",
     "output_type": "stream",
     "text": [
      "[ 0  1  2  3  4  5  6  7  8  9 10 11]\n",
      "[[ 0  1  2]\n",
      " [ 3  4  5]\n",
      " [ 6  7  8]\n",
      " [ 9 10 11]]\n"
     ]
    }
   ],
   "source": [
    "import numpy as np\n",
    "\n",
    "arr = np.arange(12)\n",
    "print(arr)\n",
    "print(arr.reshape((4,-1))) #默认以行主序\n",
    "# 可以省略另一个维度，因为 Python 可以自动计算另外一个维度数"
   ]
  },
  {
   "cell_type": "code",
   "execution_count": 2,
   "metadata": {},
   "outputs": [
    {
     "name": "stdout",
     "output_type": "stream",
     "text": [
      "[[ 0  1  2  3  4  5]\n",
      " [ 6  7  8  9 10 11]]\n",
      "[[ 0  1]\n",
      " [ 2  3]\n",
      " [ 4  5]\n",
      " [ 6  7]\n",
      " [ 8  9]\n",
      " [10 11]]\n"
     ]
    }
   ],
   "source": [
    "print(arr.reshape((2,6)))\n",
    "print(arr.reshape(6,-1))"
   ]
  },
  {
   "cell_type": "markdown",
   "metadata": {},
   "source": [
    "### 打平\n",
    "可以用 ravel() 或者 flatten() 函数进行打平运算。两者区别：\n",
    "+ ravel()按 行主序 打平时并没有复制原数组，按 列主序打平时复制了原数组\n",
    "+ flatten() 在打平时复制了原数组"
   ]
  },
  {
   "cell_type": "code",
   "execution_count": 3,
   "metadata": {},
   "outputs": [
    {
     "name": "stdout",
     "output_type": "stream",
     "text": [
      "[[ 0  1  2]\n",
      " [ 3  4  5]\n",
      " [ 6  7  8]\n",
      " [ 9 10 11]]\n",
      "[ 0  1  2  3  4  5  6  7  8  9 10 11]\n",
      "[ 0  1  2  3  4  5  6  7  8  9 10 11]\n"
     ]
    }
   ],
   "source": [
    "arr = np.arange(12).reshape((4,3))\n",
    "print(arr)\n",
    "\n",
    "ravel_arr = arr.ravel()\n",
    "print(ravel_arr)\n",
    "\n",
    "flatten_arr = arr.flatten()\n",
    "print(flatten_arr)"
   ]
  },
  {
   "cell_type": "markdown",
   "metadata": {},
   "source": [
    "### 行主序和列主序\n",
    "\n",
    "在上述打平操作中，Python 中 NumPy 默认的是行主序。如果要用列主序，请见下面的具体例子。"
   ]
  },
  {
   "cell_type": "code",
   "execution_count": 4,
   "metadata": {},
   "outputs": [
    {
     "name": "stdout",
     "output_type": "stream",
     "text": [
      "[[ 0  1  2]\n",
      " [ 3  4  5]\n",
      " [ 6  7  8]\n",
      " [ 9 10 11]]\n"
     ]
    }
   ],
   "source": [
    "#列主序\n",
    "print(arr.reshape((4,3), order='F'))"
   ]
  },
  {
   "cell_type": "code",
   "execution_count": 5,
   "metadata": {},
   "outputs": [
    {
     "name": "stdout",
     "output_type": "stream",
     "text": [
      "[[ 0  1  2]\n",
      " [ 3  4  5]\n",
      " [ 6  7  8]\n",
      " [ 9 10 11]]\n"
     ]
    }
   ],
   "source": [
    "print(arr.reshape((4,3), order='C'))\n",
    "#似乎没反应啊！？"
   ]
  },
  {
   "cell_type": "code",
   "execution_count": 8,
   "metadata": {},
   "outputs": [
    {
     "name": "stdout",
     "output_type": "stream",
     "text": [
      "[[0 1 2]\n",
      " [3 4 5]]\n",
      "[0 1 2 3 4 5]\n",
      "[[0 1 2]\n",
      " [3 4 5]]\n"
     ]
    }
   ],
   "source": [
    "#验证区别\n",
    "arr = np.arange(6).reshape((2,3))\n",
    "print(arr)\n",
    "flatten_arr = arr.flatten()\n",
    "print(flatten_arr)\n",
    "flatten_arr[0] = 10000\n",
    "print(arr)"
   ]
  },
  {
   "cell_type": "code",
   "execution_count": 9,
   "metadata": {},
   "outputs": [
    {
     "name": "stdout",
     "output_type": "stream",
     "text": [
      "[10000     3     1     4     2     5]\n",
      "[[0 1 2]\n",
      " [3 4 5]]\n"
     ]
    }
   ],
   "source": [
    "ravel_F = arr.ravel(order='F')#按列主序打平，复制原数组\n",
    "ravel_F[0] = 10000\n",
    "print(ravel_F)\n",
    "print(arr)#原数组未变"
   ]
  },
  {
   "cell_type": "code",
   "execution_count": 10,
   "metadata": {},
   "outputs": [
    {
     "name": "stdout",
     "output_type": "stream",
     "text": [
      "[10000     1     2     3     4     5]\n",
      "[[10000     1     2]\n",
      " [    3     4     5]]\n"
     ]
    }
   ],
   "source": [
    "#按行主序打平，没有复制原数组，原数组改变\n",
    "ravel_C = arr.ravel()\n",
    "ravel_C[0] = 10000\n",
    "print(ravel_C)\n",
    "print(arr)"
   ]
  },
  {
   "cell_type": "markdown",
   "metadata": {},
   "source": [
    "## 4.2 合并和分裂\n",
    "合并(concatenate,stack)和分裂(split)只是改变数组的分合。\n",
    "+ 合并：多合一\n",
    "+ 分裂：一分多\n",
    "\n",
    "### 合并\n",
    "合并有三种选择：\n",
    "+ concatenate\n",
    "+ vstack,hstack,dstack\n",
    "+ r_,c_"
   ]
  },
  {
   "cell_type": "code",
   "execution_count": 17,
   "metadata": {},
   "outputs": [
    {
     "name": "stdout",
     "output_type": "stream",
     "text": [
      "[[1 2 3]\n",
      " [4 5 6]]\n",
      "[[ 7  8  9]\n",
      " [10 11 12]]\n"
     ]
    }
   ],
   "source": [
    "arr1 = np.array([[1,2,3],[4,5,6]])\n",
    "arr2 = np.array([[7,8,9],[10,11,12]])\n",
    "print(arr1)\n",
    "print(arr2)"
   ]
  },
  {
   "cell_type": "markdown",
   "metadata": {},
   "source": [
    "#### concatenate"
   ]
  },
  {
   "cell_type": "code",
   "execution_count": 13,
   "metadata": {},
   "outputs": [
    {
     "data": {
      "text/plain": [
       "array([[ 1,  2,  3],\n",
       "       [ 4,  5,  6],\n",
       "       [ 7,  8,  9],\n",
       "       [10, 11, 12]])"
      ]
     },
     "execution_count": 13,
     "metadata": {},
     "output_type": "execute_result"
    }
   ],
   "source": [
    "np.concatenate([arr1,arr2],axis=0)#按 axis0 方向合并"
   ]
  },
  {
   "cell_type": "code",
   "execution_count": 14,
   "metadata": {},
   "outputs": [
    {
     "data": {
      "text/plain": [
       "array([[ 1,  2,  3,  7,  8,  9],\n",
       "       [ 4,  5,  6, 10, 11, 12]])"
      ]
     },
     "execution_count": 14,
     "metadata": {},
     "output_type": "execute_result"
    }
   ],
   "source": [
    "np.concatenate([arr1,arr2],axis=1)#按 axis1 方向合并"
   ]
  },
  {
   "cell_type": "markdown",
   "metadata": {},
   "source": [
    "#### vstack,hstack,dstack\n",
    "\n",
    "+ vstack: vertical 竖直合并，等价于np.concatenate(axis=0)\n",
    "+ hstack: horizontal 水平合并，等价于np.concatenate(axis=1)\n",
    "+ dstack: depth-wise 深度合并，类似于彩色找票的RGB通道\n",
    "\n",
    "关于这里可见作者原文的图片参考，画得特别好！\n"
   ]
  },
  {
   "cell_type": "code",
   "execution_count": 18,
   "metadata": {},
   "outputs": [
    {
     "name": "stdout",
     "output_type": "stream",
     "text": [
      "[[ 1  2  3]\n",
      " [ 4  5  6]\n",
      " [ 7  8  9]\n",
      " [10 11 12]]\n",
      "[[ 1  2  3  7  8  9]\n",
      " [ 4  5  6 10 11 12]]\n",
      "[[[ 1  7]\n",
      "  [ 2  8]\n",
      "  [ 3  9]]\n",
      "\n",
      " [[ 4 10]\n",
      "  [ 5 11]\n",
      "  [ 6 12]]]\n"
     ]
    }
   ],
   "source": [
    "print(np.vstack((arr1,arr2)))\n",
    "print(np.hstack((arr1,arr2)))\n",
    "print(np.dstack((arr1,arr2)))"
   ]
  },
  {
   "cell_type": "code",
   "execution_count": 19,
   "metadata": {},
   "outputs": [
    {
     "data": {
      "text/plain": [
       "(2, 3, 2)"
      ]
     },
     "execution_count": 19,
     "metadata": {},
     "output_type": "execute_result"
    }
   ],
   "source": [
    "#dstack维度增加了\n",
    "np.dstack((arr1,arr2)).shape"
   ]
  },
  {
   "cell_type": "markdown",
   "metadata": {},
   "source": [
    "#### r_,c_\n",
    "\n",
    "+ r_()水平\n",
    "+ c_()竖直"
   ]
  },
  {
   "cell_type": "code",
   "execution_count": 20,
   "metadata": {},
   "outputs": [
    {
     "name": "stdout",
     "output_type": "stream",
     "text": [
      "[[ 1  2  3]\n",
      " [ 4  5  6]\n",
      " [ 7  8  9]\n",
      " [10 11 12]]\n",
      "[[ 1  2  3  7  8  9]\n",
      " [ 4  5  6 10 11 12]]\n"
     ]
    }
   ],
   "source": [
    "print(np.r_[arr1,arr2])\n",
    "print(np.c_[arr1,arr2])"
   ]
  },
  {
   "cell_type": "markdown",
   "metadata": {},
   "source": [
    "r_() c_()与vstack()和hstack()的区别：\n",
    "\n",
    "+ 参数可以是切片"
   ]
  },
  {
   "cell_type": "code",
   "execution_count": 21,
   "metadata": {},
   "outputs": [
    {
     "name": "stdout",
     "output_type": "stream",
     "text": [
      "[-2 -1  0  1  0  0  0  5  6]\n"
     ]
    }
   ],
   "source": [
    "print(np.r_[-2:2:1,[0]*3,5,6])"
   ]
  },
  {
   "cell_type": "markdown",
   "metadata": {},
   "source": [
    "+ 第一个参数可以是控制参数，若用 'r'或'c'字符可以生成线性代数中的matrix"
   ]
  },
  {
   "cell_type": "code",
   "execution_count": 22,
   "metadata": {},
   "outputs": [
    {
     "data": {
      "text/plain": [
       "matrix([[1, 2, 3, 4, 5, 6]])"
      ]
     },
     "execution_count": 22,
     "metadata": {},
     "output_type": "execute_result"
    }
   ],
   "source": [
    "np.r_['r',[1,2,3],[4,5,6]]"
   ]
  },
  {
   "cell_type": "markdown",
   "metadata": {},
   "source": [
    "+ 第三个参数可是是控制参数，写成'a,b,c'的形式：\n",
    "\n",
    "表示的意思：\n",
    "+ a代表轴, 按 axisa 合并\n",
    "+ 合并后的位数至少是b\n",
    "+ 在第 c 维上做维度提升"
   ]
  },
  {
   "cell_type": "code",
   "execution_count": 23,
   "metadata": {},
   "outputs": [
    {
     "name": "stdout",
     "output_type": "stream",
     "text": [
      "[[1]\n",
      " [2]\n",
      " [3]\n",
      " [4]\n",
      " [5]\n",
      " [6]]\n",
      "[[1 2 3]\n",
      " [4 5 6]]\n",
      "[[1 4]\n",
      " [2 5]\n",
      " [3 6]]\n",
      "[[1 2 3 4 5 6]]\n"
     ]
    }
   ],
   "source": [
    "#例子\n",
    "print(np.r_['0,2,0',[1,2,3],[4,5,6]])\n",
    "print(np.r_['0,2,1',[1,2,3],[4,5,6]])\n",
    "print(np.r_['1,2,0',[1,2,3],[4,5,6]])\n",
    "print(np.r_['1,2,1',[1,2,3],[4,5,6]])"
   ]
  },
  {
   "cell_type": "markdown",
   "metadata": {},
   "source": [
    "### 分裂\n",
    "分类的两种方法：\n",
    "+ split\n",
    "+ hsplit,vsplit"
   ]
  },
  {
   "cell_type": "code",
   "execution_count": 24,
   "metadata": {},
   "outputs": [
    {
     "name": "stdout",
     "output_type": "stream",
     "text": [
      "[[ 0  1  2  3  4]\n",
      " [ 5  6  7  8  9]\n",
      " [10 11 12 13 14]\n",
      " [15 16 17 18 19]\n",
      " [20 21 22 23 24]]\n"
     ]
    }
   ],
   "source": [
    "arr = np.arange(25).reshape((5,5))\n",
    "print(arr)"
   ]
  },
  {
   "cell_type": "markdown",
   "metadata": {},
   "source": [
    "#### split\n",
    "\n",
    "与concatenate函数类似，我们也可以在split函数中设置按照某一个轴进行分裂。"
   ]
  },
  {
   "cell_type": "code",
   "execution_count": 25,
   "metadata": {},
   "outputs": [
    {
     "name": "stdout",
     "output_type": "stream",
     "text": [
      "The first split is  [[0 1 2 3 4]]\n",
      "The second split is  [[ 5  6  7  8  9]\n",
      " [10 11 12 13 14]]\n",
      "THe third split is  [[15 16 17 18 19]\n",
      " [20 21 22 23 24]]\n"
     ]
    }
   ],
   "source": [
    "first, second, third = np.split(arr,[1,3])\n",
    "#[1,3]表示：第一行，1:3（即2到3行），3\n",
    "print(\"The first split is \",first)\n",
    "print(\"The second split is \",second)\n",
    "print(\"THe third split is \",third)"
   ]
  },
  {
   "cell_type": "markdown",
   "metadata": {},
   "source": [
    "#### hsplit,vsplit\n",
    "\n",
    "详细的解释参见原文(解释非常到位！)"
   ]
  },
  {
   "cell_type": "code",
   "execution_count": 26,
   "metadata": {},
   "outputs": [
    {
     "name": "stdout",
     "output_type": "stream",
     "text": [
      "The first split is  [[ 0]\n",
      " [ 5]\n",
      " [10]\n",
      " [15]\n",
      " [20]]\n",
      "The second split is  [[ 1  2]\n",
      " [ 6  7]\n",
      " [11 12]\n",
      " [16 17]\n",
      " [21 22]]\n",
      "The third split is  [[ 3  4]\n",
      " [ 8  9]\n",
      " [13 14]\n",
      " [18 19]\n",
      " [23 24]]\n"
     ]
    }
   ],
   "source": [
    "#水平分裂\n",
    "first,second,third = np.hsplit(arr,[1,3])\n",
    "print(\"The first split is \",first)\n",
    "print(\"The second split is \",second)\n",
    "print(\"The third split is \",third)"
   ]
  },
  {
   "cell_type": "markdown",
   "metadata": {},
   "source": [
    "## 4.3 重复和拼接\n",
    "\n",
    "重复(repeat)和拼接(tile)：\n",
    "+ 重复是元素层面的复制\n",
    "+ 拼接是在数组层面的复制\n",
    "\n",
    "都是复制\n",
    "### 重复\n",
    "+ 一维数组: 用标量和列表复制元素的个数\n",
    "+ 多维数组: 用标量和列表来复制元素的个数，用轴来控制复制的行和列\n",
    "\n",
    "#### 标量"
   ]
  },
  {
   "cell_type": "code",
   "execution_count": 27,
   "metadata": {},
   "outputs": [
    {
     "name": "stdout",
     "output_type": "stream",
     "text": [
      "[0 1 2]\n",
      "[0 0 0 1 1 1 2 2 2]\n"
     ]
    }
   ],
   "source": [
    "arr = np.arange(3)\n",
    "print(arr)\n",
    "print(arr.repeat(3))#对每个元素进行重复"
   ]
  },
  {
   "cell_type": "markdown",
   "metadata": {},
   "source": [
    "#### 列表\n"
   ]
  },
  {
   "cell_type": "code",
   "execution_count": 28,
   "metadata": {},
   "outputs": [
    {
     "name": "stdout",
     "output_type": "stream",
     "text": [
      "[0 0 1 1 1 2 2 2 2]\n"
     ]
    }
   ],
   "source": [
    "print(arr.repeat([2,3,4])) #对应重复次数"
   ]
  },
  {
   "cell_type": "markdown",
   "metadata": {},
   "source": [
    "#### 标量和轴"
   ]
  },
  {
   "cell_type": "code",
   "execution_count": 29,
   "metadata": {},
   "outputs": [
    {
     "name": "stdout",
     "output_type": "stream",
     "text": [
      "[[0 1 2]\n",
      " [3 4 5]]\n",
      "[[0 1 2]\n",
      " [0 1 2]\n",
      " [3 4 5]\n",
      " [3 4 5]]\n"
     ]
    }
   ],
   "source": [
    "arr2d = np.arange(6).reshape((2,3))\n",
    "print(arr2d)\n",
    "print(arr2d.repeat(2,axis=0))"
   ]
  },
  {
   "cell_type": "markdown",
   "metadata": {},
   "source": [
    "#### 列表和轴"
   ]
  },
  {
   "cell_type": "code",
   "execution_count": 30,
   "metadata": {},
   "outputs": [
    {
     "name": "stdout",
     "output_type": "stream",
     "text": [
      "[[0 0 1 1 1 2 2 2 2]\n",
      " [3 3 4 4 4 5 5 5 5]]\n"
     ]
    }
   ],
   "source": [
    "print(arr2d.repeat([2,3,4],axis=1))"
   ]
  },
  {
   "cell_type": "markdown",
   "metadata": {},
   "source": [
    "### 拼接\n",
    "函数 tile() 复制的是数组本身，参数有下面的设定方法：\n",
    "\n",
    "+ 标量：将数组当成一个元素，一列一列复制\n",
    "+ 形状：将数组当成一个元素，按形状复制\n",
    "\n",
    "#### 标量"
   ]
  },
  {
   "cell_type": "code",
   "execution_count": 31,
   "metadata": {},
   "outputs": [
    {
     "name": "stdout",
     "output_type": "stream",
     "text": [
      "[[0 1 2]\n",
      " [3 4 5]]\n",
      "[[0 1 2 0 1 2]\n",
      " [3 4 5 3 4 5]]\n"
     ]
    }
   ],
   "source": [
    "arr2d = np.arange(6).reshape((2,3))\n",
    "print(arr2d)\n",
    "print(np.tile(arr2d,2)) #按列复制 2 遍"
   ]
  },
  {
   "cell_type": "markdown",
   "metadata": {},
   "source": [
    "#### 形状"
   ]
  },
  {
   "cell_type": "code",
   "execution_count": 32,
   "metadata": {},
   "outputs": [
    {
     "name": "stdout",
     "output_type": "stream",
     "text": [
      "[[0 1 2 0 1 2 0 1 2]\n",
      " [3 4 5 3 4 5 3 4 5]\n",
      " [0 1 2 0 1 2 0 1 2]\n",
      " [3 4 5 3 4 5 3 4 5]]\n"
     ]
    }
   ],
   "source": [
    "print(np.tile(arr2d,(2,3)))"
   ]
  },
  {
   "cell_type": "markdown",
   "metadata": {},
   "source": [
    "## 4.4 其他操作\n",
    "\n",
    "+ sort\n",
    "+ insert\n",
    "+ delete\n",
    "+ copy\n",
    "\n",
    "### 排序\n",
    "\n",
    "包括直接排序(direct sort)和间接排序(indirect sort)\n",
    "\n",
    "#### 直接排序\n"
   ]
  },
  {
   "cell_type": "code",
   "execution_count": 33,
   "metadata": {},
   "outputs": [
    {
     "name": "stdout",
     "output_type": "stream",
     "text": [
      "Before sorting [5 3 2 6 1 4]\n",
      "After sorting [1 2 3 4 5 6]\n"
     ]
    }
   ],
   "source": [
    "arr = np.array([5,3,2,6,1,4])\n",
    "print(\"Before sorting\",arr)\n",
    "arr.sort()\n",
    "print(\"After sorting\",arr)#默认按照升序的办法排序"
   ]
  },
  {
   "cell_type": "code",
   "execution_count": 34,
   "metadata": {},
   "outputs": [
    {
     "name": "stdout",
     "output_type": "stream",
     "text": [
      "[6 5 4 3 2 1]\n"
     ]
    }
   ],
   "source": [
    "print(arr[::-1])"
   ]
  },
  {
   "cell_type": "markdown",
   "metadata": {},
   "source": [
    "用来排序的两种 sort ：\n",
    "+ arr.sort()会改变arr\n",
    "+ np.sort(arr)不会改变arr,只是创建了一个 arr 复制品"
   ]
  },
  {
   "cell_type": "code",
   "execution_count": 36,
   "metadata": {},
   "outputs": [
    {
     "name": "stdout",
     "output_type": "stream",
     "text": [
      "[[12 13  2  5]\n",
      " [10 29  8 38]\n",
      " [12 25 25 10]]\n"
     ]
    }
   ],
   "source": [
    "arr = np.random.randint(40,size=(3,4))\n",
    "print(arr)"
   ]
  },
  {
   "cell_type": "code",
   "execution_count": 37,
   "metadata": {},
   "outputs": [
    {
     "name": "stdout",
     "output_type": "stream",
     "text": [
      "[[10 13  2  5]\n",
      " [12 29  8 38]\n",
      " [12 25 25 10]]\n"
     ]
    }
   ],
   "source": [
    "#对第一列排序，发现原来的arr改变了\n",
    "arr[:,0].sort()\n",
    "print(arr)"
   ]
  },
  {
   "cell_type": "code",
   "execution_count": 38,
   "metadata": {},
   "outputs": [
    {
     "data": {
      "text/plain": [
       "array([13, 25, 29])"
      ]
     },
     "execution_count": 38,
     "metadata": {},
     "output_type": "execute_result"
    }
   ],
   "source": [
    "#np.sort(arr)对第二列排序，但arr不变\n",
    "np.sort(arr[:,1])"
   ]
  },
  {
   "cell_type": "code",
   "execution_count": 39,
   "metadata": {},
   "outputs": [
    {
     "name": "stdout",
     "output_type": "stream",
     "text": [
      "[[10 13  2  5]\n",
      " [12 29  8 38]\n",
      " [12 25 25 10]]\n"
     ]
    }
   ],
   "source": [
    "print(arr)"
   ]
  },
  {
   "cell_type": "code",
   "execution_count": 40,
   "metadata": {},
   "outputs": [
    {
     "name": "stdout",
     "output_type": "stream",
     "text": [
      "[[ 2  5 10 13]\n",
      " [ 8 12 29 38]\n",
      " [10 12 25 25]]\n"
     ]
    }
   ],
   "source": [
    "arr.sort(axis=1)#跨列排序\n",
    "print(arr)"
   ]
  },
  {
   "cell_type": "markdown",
   "metadata": {},
   "source": [
    "#### 间接排序\n",
    "\n",
    "可以提取每个元素在原数组对应的索引(indexing), 可以利用argsort()函数"
   ]
  },
  {
   "cell_type": "code",
   "execution_count": 41,
   "metadata": {},
   "outputs": [
    {
     "name": "stdout",
     "output_type": "stream",
     "text": [
      "[1 3 4 2 0]\n"
     ]
    }
   ],
   "source": [
    "score = np.array([100,60,99,80,91])\n",
    "idx = score.argsort()\n",
    "print(idx)"
   ]
  },
  {
   "cell_type": "code",
   "execution_count": 42,
   "metadata": {},
   "outputs": [
    {
     "name": "stdout",
     "output_type": "stream",
     "text": [
      "[ 60  80  91  99 100]\n"
     ]
    }
   ],
   "source": [
    "#利用花式索引获取\n",
    "print(score[idx])"
   ]
  },
  {
   "cell_type": "code",
   "execution_count": 43,
   "metadata": {},
   "outputs": [
    {
     "name": "stdout",
     "output_type": "stream",
     "text": [
      "[[33 33 24 14]\n",
      " [37 13  8 16]\n",
      " [10 37  5 18]]\n"
     ]
    }
   ],
   "source": [
    "#二维数组的例子\n",
    "arr = np.random.randint(40,size=(3,4))\n",
    "print(arr)"
   ]
  },
  {
   "cell_type": "code",
   "execution_count": 44,
   "metadata": {},
   "outputs": [
    {
     "data": {
      "text/plain": [
       "array([[14, 24, 33, 33],\n",
       "       [16,  8, 37, 13],\n",
       "       [18,  5, 10, 37]])"
      ]
     },
     "execution_count": 44,
     "metadata": {},
     "output_type": "execute_result"
    }
   ],
   "source": [
    "#对第一行 arr[0] 排序，再应用到行上(花式索引)\n",
    "arr[:,arr[0].argsort()]"
   ]
  },
  {
   "cell_type": "code",
   "execution_count": 46,
   "metadata": {},
   "outputs": [
    {
     "name": "stdout",
     "output_type": "stream",
     "text": [
      "[3 2 0 1]\n"
     ]
    }
   ],
   "source": [
    "print(arr[0].argsort())"
   ]
  },
  {
   "cell_type": "code",
   "execution_count": 47,
   "metadata": {},
   "outputs": [
    {
     "data": {
      "text/plain": [
       "array([[14, 24, 33, 33],\n",
       "       [16,  8, 37, 13],\n",
       "       [18,  5, 10, 37]])"
      ]
     },
     "execution_count": 47,
     "metadata": {},
     "output_type": "execute_result"
    }
   ],
   "source": [
    "arr[:,[3,2,0,1]]"
   ]
  },
  {
   "cell_type": "markdown",
   "metadata": {},
   "source": [
    "### 插入和删除\n",
    "\n",
    "+ 用insert()函数在 特定位置 之前插入元素\n",
    "+ 用delete()函数删除 特定元素"
   ]
  },
  {
   "cell_type": "code",
   "execution_count": 48,
   "metadata": {},
   "outputs": [
    {
     "name": "stdout",
     "output_type": "stream",
     "text": [
      "[0 1 2 3 4 5]\n",
      "[  0 100   1   2   3   4   5]\n",
      "[0 2 4 5]\n"
     ]
    }
   ],
   "source": [
    "a = np.arange(6)\n",
    "print(a)\n",
    "print(np.insert(a,1,100))\n",
    "print(np.delete(a,[1,3]))"
   ]
  },
  {
   "cell_type": "markdown",
   "metadata": {},
   "source": [
    "### 复制\n",
    "\n",
    "可以使用copy()函数来复制数组 a 得到 a_copy。改变a_copy并不会改变a"
   ]
  },
  {
   "cell_type": "code",
   "execution_count": 50,
   "metadata": {},
   "outputs": [
    {
     "name": "stdout",
     "output_type": "stream",
     "text": [
      "Before changing value, a is  [0 1 2 3 4 5]\n",
      "Before changing value, a_copy is  [0 1 2 3 4 5]\n",
      "After changing value, a_copy is  [ 0  1  2  3  4 99]\n",
      "After changing value, a is  [0 1 2 3 4 5]\n"
     ]
    }
   ],
   "source": [
    "a = np.arange(6)\n",
    "a_copy = a.copy()\n",
    "print(\"Before changing value, a is \",a)\n",
    "print(\"Before changing value, a_copy is \",a_copy)\n",
    "a_copy[-1] = 99\n",
    "print(\"After changing value, a_copy is \",a_copy)\n",
    "print(\"After changing value, a is \",a)"
   ]
  },
  {
   "cell_type": "markdown",
   "metadata": {},
   "source": [
    "# 5. 数组的计算\n",
    "\n",
    "+ 元素层面计算(element-wise)\n",
    "+ 线性代数计算(linear algebra)\n",
    "+ 元素整合计算(element aggregation)\n",
    "+ 广播机制计算(broadcasting)\n",
    "\n",
    "## 5.1 元素层面计算\n",
    "元素层面的计算包括：\n",
    "+ 二元运算(binary operation): 加减乘除\n",
    "+ 数学函数: 倒数，平方，指数，对数\n",
    "+ 比较运算(comparison)\n",
    "\n",
    "先定义两个数组"
   ]
  },
  {
   "cell_type": "code",
   "execution_count": 51,
   "metadata": {},
   "outputs": [
    {
     "name": "stdout",
     "output_type": "stream",
     "text": [
      "[[1. 2. 3.]\n",
      " [4. 5. 6.]]\n",
      "[[2. 2. 2.]\n",
      " [2. 2. 2.]]\n"
     ]
    }
   ],
   "source": [
    "arr1 = np.array([[1.,2.,3.],[4.,5.,6.]])\n",
    "arr2 = np.ones((2,3)) * 2\n",
    "print(arr1)\n",
    "print(arr2)"
   ]
  },
  {
   "cell_type": "markdown",
   "metadata": {},
   "source": [
    "### 加，减，乘，除"
   ]
  },
  {
   "cell_type": "code",
   "execution_count": 52,
   "metadata": {},
   "outputs": [
    {
     "name": "stdout",
     "output_type": "stream",
     "text": [
      "[[4. 5. 6.]\n",
      " [7. 8. 9.]]\n",
      "[[-1.  0.  1.]\n",
      " [ 2.  3.  4.]]\n",
      "[[ 2.  4.  6.]\n",
      " [ 8. 10. 12.]]\n",
      "[[0.5 1.  1.5]\n",
      " [2.  2.5 3. ]]\n"
     ]
    }
   ],
   "source": [
    "print(arr1 + arr2 + 1)\n",
    "print(arr1 - arr2)\n",
    "print(arr1 * arr2)\n",
    "print(arr1 / arr2)\n",
    "#不同于线性代数中的矩阵的运算"
   ]
  },
  {
   "cell_type": "markdown",
   "metadata": {},
   "source": [
    "### 倒数，平方，指数，对数"
   ]
  },
  {
   "cell_type": "code",
   "execution_count": 53,
   "metadata": {},
   "outputs": [
    {
     "name": "stdout",
     "output_type": "stream",
     "text": [
      "[[1.         0.5        0.33333333]\n",
      " [0.25       0.2        0.16666667]]\n",
      "[[ 1.  4.  9.]\n",
      " [16. 25. 36.]]\n",
      "[[  2.71828183   7.3890561   20.08553692]\n",
      " [ 54.59815003 148.4131591  403.42879349]]\n",
      "[[0.         0.69314718 1.09861229]\n",
      " [1.38629436 1.60943791 1.79175947]]\n"
     ]
    }
   ],
   "source": [
    "print(1 / arr1)\n",
    "print(arr1 ** 2)\n",
    "print(np.exp(arr1))\n",
    "print(np.log(arr1))"
   ]
  },
  {
   "cell_type": "markdown",
   "metadata": {},
   "source": [
    "### 比较"
   ]
  },
  {
   "cell_type": "code",
   "execution_count": 54,
   "metadata": {},
   "outputs": [
    {
     "data": {
      "text/plain": [
       "array([[False, False,  True],\n",
       "       [ True,  True,  True]])"
      ]
     },
     "execution_count": 54,
     "metadata": {},
     "output_type": "execute_result"
    }
   ],
   "source": [
    "arr1 > arr2"
   ]
  },
  {
   "cell_type": "code",
   "execution_count": 55,
   "metadata": {},
   "outputs": [
    {
     "data": {
      "text/plain": [
       "array([[False, False, False],\n",
       "       [ True,  True,  True]])"
      ]
     },
     "execution_count": 55,
     "metadata": {},
     "output_type": "execute_result"
    }
   ],
   "source": [
    "arr1 > 3"
   ]
  },
  {
   "cell_type": "code",
   "execution_count": 56,
   "metadata": {},
   "outputs": [
    {
     "data": {
      "text/plain": [
       "array([3., 4., 5., 6.])"
      ]
     },
     "execution_count": 56,
     "metadata": {},
     "output_type": "execute_result"
    }
   ],
   "source": [
    "arr1[arr1 > arr2]"
   ]
  },
  {
   "cell_type": "markdown",
   "metadata": {},
   "source": [
    "## 5.2 线性代数计算\n",
    "numpy中默认以数组的方式进行加减乘除，而不是线性代数中的矩阵形式，不过也可以通过下面的函数转化为矩阵进行运算：\n",
    "+ A=np.mat(arr2d)\n",
    "+ A=np.asmatrix(arr2d)\n",
    "\n",
    "### 创建"
   ]
  },
  {
   "cell_type": "code",
   "execution_count": 57,
   "metadata": {},
   "outputs": [
    {
     "data": {
      "text/plain": [
       "array([[1, 2],\n",
       "       [3, 4]])"
      ]
     },
     "execution_count": 57,
     "metadata": {},
     "output_type": "execute_result"
    }
   ],
   "source": [
    "arr2d = np.array([[1,2],[3,4]])\n",
    "arr2d"
   ]
  },
  {
   "cell_type": "code",
   "execution_count": 58,
   "metadata": {},
   "outputs": [
    {
     "data": {
      "text/plain": [
       "matrix([[1, 2],\n",
       "        [3, 4]])"
      ]
     },
     "execution_count": 58,
     "metadata": {},
     "output_type": "execute_result"
    }
   ],
   "source": [
    "A = np.asmatrix(arr2d)\n",
    "A"
   ]
  },
  {
   "cell_type": "markdown",
   "metadata": {},
   "source": [
    "### 转置\n",
    "可以参考上帖\n"
   ]
  },
  {
   "cell_type": "code",
   "execution_count": 59,
   "metadata": {},
   "outputs": [
    {
     "name": "stdout",
     "output_type": "stream",
     "text": [
      "[[1 3]\n",
      " [2 4]]\n",
      "[[1 3]\n",
      " [2 4]]\n",
      "[[1 3]\n",
      " [2 4]]\n"
     ]
    }
   ],
   "source": [
    "print(arr2d.T)\n",
    "print(arr2d.transpose())\n",
    "print(A.T)"
   ]
  },
  {
   "cell_type": "markdown",
   "metadata": {},
   "source": [
    "### 求逆\n",
    "\n",
    "数组利用 np.linalg.inv() 函数，矩阵用 A.I 或者 A ** -1进行操作"
   ]
  },
  {
   "cell_type": "code",
   "execution_count": 60,
   "metadata": {},
   "outputs": [
    {
     "name": "stdout",
     "output_type": "stream",
     "text": [
      "[[-2.   1. ]\n",
      " [ 1.5 -0.5]]\n",
      "[[-2.   1. ]\n",
      " [ 1.5 -0.5]]\n",
      "[[-2.   1. ]\n",
      " [ 1.5 -0.5]]\n"
     ]
    }
   ],
   "source": [
    "print(np.linalg.inv(arr2d))\n",
    "print(A.I)\n",
    "print(A ** -1)"
   ]
  },
  {
   "cell_type": "markdown",
   "metadata": {},
   "source": [
    "### 相乘\n",
    "\n",
    "+ 数组的相乘是对应元素的相乘\n",
    "+ 矩阵的相乘就是数学中矩阵定义的相乘"
   ]
  },
  {
   "cell_type": "code",
   "execution_count": 61,
   "metadata": {},
   "outputs": [
    {
     "name": "stdout",
     "output_type": "stream",
     "text": [
      "(2,) (2, 1)\n"
     ]
    }
   ],
   "source": [
    "arr = np.array([1,2])#一维数组\n",
    "b = np.asmatrix(arr).T#列向量\n",
    "print(arr.shape,b.shape)#打印维度\n",
    "#数组不分行数组或列数组"
   ]
  },
  {
   "cell_type": "code",
   "execution_count": 62,
   "metadata": {},
   "outputs": [
    {
     "name": "stdout",
     "output_type": "stream",
     "text": [
      "[[1 4]\n",
      " [3 8]]\n",
      "[[ 5]\n",
      " [11]]\n"
     ]
    }
   ],
   "source": [
    "#乘都是 * 符号\n",
    "print(arr2d * arr) # 数组的广播机制\n",
    "print(A * b) #线性代数中的矩阵和向量的相乘"
   ]
  },
  {
   "cell_type": "code",
   "execution_count": 63,
   "metadata": {},
   "outputs": [
    {
     "name": "stdout",
     "output_type": "stream",
     "text": [
      "[[ 1  4]\n",
      " [ 9 16]]\n",
      "[[ 7 10]\n",
      " [15 22]]\n"
     ]
    }
   ],
   "source": [
    "#二维数组和二维数组相乘 矩阵和矩阵相乘\n",
    "print(arr2d * arr2d)\n",
    "print(A * A)"
   ]
  },
  {
   "cell_type": "code",
   "execution_count": 64,
   "metadata": {},
   "outputs": [
    {
     "name": "stdout",
     "output_type": "stream",
     "text": [
      "[ 5 11]\n",
      "[[ 7 10]\n",
      " [15 22]]\n"
     ]
    }
   ],
   "source": [
    "#利用 dot() 函数可以实现数组的矩阵相乘\n",
    "print(np.dot(arr2d,arr))\n",
    "print(np.dot(arr2d,arr2d))"
   ]
  },
  {
   "cell_type": "markdown",
   "metadata": {},
   "source": [
    "### 点乘函数\n",
    "\n",
    "n 维数组被称为张量"
   ]
  },
  {
   "cell_type": "code",
   "execution_count": 65,
   "metadata": {},
   "outputs": [
    {
     "name": "stdout",
     "output_type": "stream",
     "text": [
      "()\n",
      "10\n",
      "(3,)\n",
      "[3 4 3]\n"
     ]
    }
   ],
   "source": [
    "#例一\n",
    "x = np.array([1,2,3])\n",
    "y = np.array([3,2,1])\n",
    "z = np.dot(x,y)#向量内积\n",
    "z_array = x * y\n",
    "print(z.shape)\n",
    "print(z)\n",
    "print(z_array.shape)\n",
    "print(z_array)"
   ]
  },
  {
   "cell_type": "code",
   "execution_count": 66,
   "metadata": {},
   "outputs": [
    {
     "name": "stdout",
     "output_type": "stream",
     "text": [
      "(2,)\n",
      "[10  6]\n"
     ]
    }
   ],
   "source": [
    "#例二\n",
    "x = np.array([1,2,3])\n",
    "y = np.array([[3,2,1],[1,1,1]])\n",
    "z = np.dot(y,x)#矩阵乘向量，但又有点区别\n",
    "print(z.shape)\n",
    "print(z)"
   ]
  },
  {
   "cell_type": "code",
   "execution_count": 67,
   "metadata": {},
   "outputs": [
    {
     "name": "stdout",
     "output_type": "stream",
     "text": [
      "(2, 3)\n",
      "[[ 6 12 18]\n",
      " [ 3  6  9]]\n"
     ]
    }
   ],
   "source": [
    "#例三\n",
    "x = np.array([[1,2,3],[1,2,3],[1,2,3]])\n",
    "y = np.array([[3,2,1],[1,1,1]])\n",
    "z = np.dot(y,x)\n",
    "print(z.shape)\n",
    "print(z)"
   ]
  },
  {
   "cell_type": "code",
   "execution_count": 69,
   "metadata": {},
   "outputs": [
    {
     "name": "stdout",
     "output_type": "stream",
     "text": [
      "(2, 3)\n",
      "[[10. 10. 10.]\n",
      " [10. 10. 10.]]\n"
     ]
    }
   ],
   "source": [
    "#例四\n",
    "x = np.ones(shape=(2,3,4))\n",
    "y = np.array([1,2,3,4])\n",
    "z = np.dot(x,y)\n",
    "print(z.shape)\n",
    "print(z)"
   ]
  },
  {
   "cell_type": "code",
   "execution_count": 70,
   "metadata": {},
   "outputs": [
    {
     "name": "stdout",
     "output_type": "stream",
     "text": [
      "(2, 3, 2)\n",
      "[[[ 0.64013247  4.6396707 ]\n",
      "  [-2.37977325 -4.44030981]\n",
      "  [ 0.49036975  1.43596228]]\n",
      "\n",
      " [[-0.16512663 -1.91731249]\n",
      "  [-0.8993724   2.17011769]\n",
      "  [ 0.84884828 -0.70318381]]]\n"
     ]
    }
   ],
   "source": [
    "#例五\n",
    "x = np.random.normal(0,1,size=(2,3,4))\n",
    "y = np.random.normal(0,1,size=(4,2))\n",
    "z = np.dot(x,y)\n",
    "print(z.shape)\n",
    "print(z)"
   ]
  },
  {
   "cell_type": "markdown",
   "metadata": {},
   "source": [
    "## 5.3 元素整合计算\n",
    "数组中，元素可以以不同方式进行整合(aggregation)。如求和"
   ]
  },
  {
   "cell_type": "code",
   "execution_count": 71,
   "metadata": {},
   "outputs": [
    {
     "data": {
      "text/plain": [
       "array([[1, 2, 3],\n",
       "       [4, 5, 6]])"
      ]
     },
     "execution_count": 71,
     "metadata": {},
     "output_type": "execute_result"
    }
   ],
   "source": [
    "arr = np.arange(1,7).reshape((2,3))\n",
    "arr"
   ]
  },
  {
   "cell_type": "code",
   "execution_count": 72,
   "metadata": {},
   "outputs": [
    {
     "name": "stdout",
     "output_type": "stream",
     "text": [
      "The total sum is  21\n",
      "The sum across rows is  [5 7 9]\n",
      "The sum across colums is  [ 6 15]\n"
     ]
    }
   ],
   "source": [
    "print(\"The total sum is \",arr.sum())\n",
    "print(\"The sum across rows is \",arr.sum(axis=0))\n",
    "print(\"The sum across colums is \",arr.sum(axis=1))\n",
    "#指定按照特定的维度进行整合"
   ]
  },
  {
   "cell_type": "markdown",
   "metadata": {},
   "source": [
    "### 一维数组"
   ]
  },
  {
   "cell_type": "code",
   "execution_count": 73,
   "metadata": {},
   "outputs": [
    {
     "name": "stdout",
     "output_type": "stream",
     "text": [
      "The total sum is  6\n",
      "The sum on axis0 is  6\n"
     ]
    }
   ],
   "source": [
    "arr = np.array([1,2,3])\n",
    "print(\"The total sum is \",arr.sum())\n",
    "print(\"The sum on axis0 is \",arr.sum(axis=0))"
   ]
  },
  {
   "cell_type": "markdown",
   "metadata": {},
   "source": [
    "### 二维数组\n",
    "只要把握住轴的概念就能容易地理解按照轴的求和操作了(其他整合函数类似，整体概念)"
   ]
  },
  {
   "cell_type": "code",
   "execution_count": 74,
   "metadata": {},
   "outputs": [
    {
     "name": "stdout",
     "output_type": "stream",
     "text": [
      "[[1 2 3]\n",
      " [4 5 6]]\n"
     ]
    }
   ],
   "source": [
    "arr = np.arange(1,7).reshape((2,3))\n",
    "print(arr)"
   ]
  },
  {
   "cell_type": "code",
   "execution_count": 75,
   "metadata": {},
   "outputs": [
    {
     "name": "stdout",
     "output_type": "stream",
     "text": [
      "The total sum is  21\n",
      "The sum on axis0 is [5 7 9]\n",
      "The sum on axis1 is [ 6 15]\n"
     ]
    }
   ],
   "source": [
    "print(\"The total sum is \",arr.sum())\n",
    "print(f\"The sum on axis0 is {arr.sum(axis=0)}\")\n",
    "print(f\"The sum on axis1 is {arr.sum(axis=1)}\")"
   ]
  },
  {
   "cell_type": "code",
   "execution_count": 77,
   "metadata": {},
   "outputs": [
    {
     "name": "stdout",
     "output_type": "stream",
     "text": [
      "[[5 7 9]]\n",
      "[[ 6]\n",
      " [15]]\n"
     ]
    }
   ],
   "source": [
    "#保留维度\n",
    "print(arr.sum(axis=0, keepdims=True))\n",
    "print(arr.sum(axis=1, keepdims=True))"
   ]
  },
  {
   "cell_type": "markdown",
   "metadata": {},
   "source": [
    "### 三维数组\n"
   ]
  },
  {
   "cell_type": "code",
   "execution_count": 79,
   "metadata": {},
   "outputs": [
    {
     "name": "stdout",
     "output_type": "stream",
     "text": [
      "[[[ 1  2  3]\n",
      "  [ 4  5  6]]\n",
      "\n",
      " [[ 7  8  9]\n",
      "  [10 11 12]]]\n"
     ]
    }
   ],
   "source": [
    "arr = np.arange(1,13).reshape((2,2,3))\n",
    "print(arr)"
   ]
  },
  {
   "cell_type": "code",
   "execution_count": 81,
   "metadata": {},
   "outputs": [
    {
     "name": "stdout",
     "output_type": "stream",
     "text": [
      "The total sum is  78\n",
      "The sum on axis0 is  [[ 8 10 12]\n",
      " [14 16 18]]\n",
      "The sum on axis1 is  [[ 5  7  9]\n",
      " [17 19 21]]\n",
      "The sum on axis2 is  [[ 6 15]\n",
      " [24 33]]\n"
     ]
    }
   ],
   "source": [
    "print(\"The total sum is \",arr.sum())\n",
    "print(\"The sum on axis0 is \",arr.sum(axis=0))\n",
    "print(\"The sum on axis1 is \",arr.sum(axis=1))\n",
    "print(\"The sum on axis2 is \",arr.sum(axis=2))"
   ]
  },
  {
   "cell_type": "markdown",
   "metadata": {},
   "source": [
    "### 四维数组"
   ]
  },
  {
   "cell_type": "code",
   "execution_count": 82,
   "metadata": {},
   "outputs": [
    {
     "name": "stdout",
     "output_type": "stream",
     "text": [
      "[[[[ 1  2  3]\n",
      "   [ 4  5  6]]\n",
      "\n",
      "  [[ 7  8  9]\n",
      "   [10 11 12]]]\n",
      "\n",
      "\n",
      " [[[13 14 15]\n",
      "   [16 17 18]]\n",
      "\n",
      "  [[19 20 21]\n",
      "   [22 23 24]]]]\n"
     ]
    }
   ],
   "source": [
    "arr = np.arange(1,25).reshape((2,2,2,3))\n",
    "print(arr)"
   ]
  },
  {
   "cell_type": "code",
   "execution_count": 83,
   "metadata": {},
   "outputs": [
    {
     "name": "stdout",
     "output_type": "stream",
     "text": [
      "The total sum is  300\n",
      "The sum on axis0 is  [[[14 16 18]\n",
      "  [20 22 24]]\n",
      "\n",
      " [[26 28 30]\n",
      "  [32 34 36]]]\n",
      "The sum on axis1 is  [[[ 8 10 12]\n",
      "  [14 16 18]]\n",
      "\n",
      " [[32 34 36]\n",
      "  [38 40 42]]]\n",
      "The sum on axis2 is  [[[ 5  7  9]\n",
      "  [17 19 21]]\n",
      "\n",
      " [[29 31 33]\n",
      "  [41 43 45]]]\n",
      "The sum on axis3 is  [[[ 6 15]\n",
      "  [24 33]]\n",
      "\n",
      " [[42 51]\n",
      "  [60 69]]]\n"
     ]
    }
   ],
   "source": [
    "print(\"The total sum is \", arr.sum())\n",
    "print(\"The sum on axis0 is \",arr.sum(axis=0))\n",
    "print(\"The sum on axis1 is \",arr.sum(axis=1))\n",
    "print(\"The sum on axis2 is \",arr.sum(axis=2))\n",
    "print(\"The sum on axis3 is \",arr.sum(axis=3))"
   ]
  },
  {
   "cell_type": "markdown",
   "metadata": {},
   "source": [
    "### 小结\n",
    "\n",
    "数组的整合函数 = [sum,min,max,std,cumsum,mean]\n",
    "两种整合方式：\n",
    "+ 所有元素的整合\n",
    "+ 按照某个轴上的元素整合\n",
    "## 5.4 广播机制计算\n",
    "\n",
    "+ 广播轴: 对比两个数组的维度，形状小的数组会自动补齐\n",
    "+ 复制元素: 顺着补齐的轴，将形状小的数组里的元素进行复制\n",
    "\n",
    "### 例一：标量和一维数组"
   ]
  },
  {
   "cell_type": "code",
   "execution_count": 84,
   "metadata": {},
   "outputs": [
    {
     "name": "stdout",
     "output_type": "stream",
     "text": [
      "[0 1 2 3 4]\n",
      "[2 3 4 5 6]\n"
     ]
    }
   ],
   "source": [
    "arr = np.arange(5)\n",
    "print(arr)\n",
    "print(arr + 2)"
   ]
  },
  {
   "cell_type": "markdown",
   "metadata": {},
   "source": [
    "### 例二：一维数组和二维数组"
   ]
  },
  {
   "cell_type": "code",
   "execution_count": 85,
   "metadata": {},
   "outputs": [
    {
     "name": "stdout",
     "output_type": "stream",
     "text": [
      "[[ 0  1  2]\n",
      " [ 3  4  5]\n",
      " [ 6  7  8]\n",
      " [ 9 10 11]]\n",
      "[4.5 5.5 6.5]\n",
      "[[-4.5 -4.5 -4.5]\n",
      " [-1.5 -1.5 -1.5]\n",
      " [ 1.5  1.5  1.5]\n",
      " [ 4.5  4.5  4.5]]\n"
     ]
    }
   ],
   "source": [
    "arr = np.arange(12).reshape((4,3))\n",
    "print(arr)\n",
    "print(arr.mean(axis=0))\n",
    "print(arr - arr.mean(axis=0))"
   ]
  },
  {
   "cell_type": "markdown",
   "metadata": {},
   "source": [
    "### 广播机制的规则\n",
    "\n",
    "对两个数组进行操作时，如果形状：\n",
    "+ 不相容(incompatible),广播机制不能进行\n",
    "+ 相容(compatible),广播机制可以进行\n",
    "\n",
    "广播机制分两步：\n",
    "+ 检查两个数组形状是否兼容，即从两个形状元祖最后一个元素来检查：\n",
    "+ + 它们是否想等\n",
    "+ + 是否有一个等于1\n",
    "+ 形状兼容，确定两个数组的最终形状\n",
    "\n",
    "### 例三：维度一样，形状不一样"
   ]
  },
  {
   "cell_type": "code",
   "execution_count": 86,
   "metadata": {},
   "outputs": [
    {
     "name": "stdout",
     "output_type": "stream",
     "text": [
      "The shape of a is  (1, 3)\n",
      "The shape of b is  (3, 1)\n"
     ]
    }
   ],
   "source": [
    "a = np.array([[1,2,3]])\n",
    "b = np.array([[4],[5],[6]])\n",
    "print(\"The shape of a is \",a.shape)\n",
    "print(\"The shape of b is \",b.shape)"
   ]
  },
  {
   "cell_type": "code",
   "execution_count": 87,
   "metadata": {},
   "outputs": [
    {
     "name": "stdout",
     "output_type": "stream",
     "text": [
      "The shape of c is  (3, 3)\n"
     ]
    }
   ],
   "source": [
    "c = a + b\n",
    "print(\"The shape of c is \",c.shape)"
   ]
  },
  {
   "cell_type": "code",
   "execution_count": 88,
   "metadata": {},
   "outputs": [
    {
     "name": "stdout",
     "output_type": "stream",
     "text": [
      "a is  [[1 2 3]]\n",
      "b is  [[4]\n",
      " [5]\n",
      " [6]]\n",
      "c = a + b =  [[5 6 7]\n",
      " [6 7 8]\n",
      " [7 8 9]]\n"
     ]
    }
   ],
   "source": [
    "print(\"a is \",a)\n",
    "print(\"b is \",b)\n",
    "print(\"c = a + b = \",c)"
   ]
  },
  {
   "cell_type": "code",
   "execution_count": 89,
   "metadata": {},
   "outputs": [
    {
     "name": "stdout",
     "output_type": "stream",
     "text": [
      "[[1 2 3]]\n",
      "[[4]\n",
      " [5]\n",
      " [6]]\n"
     ]
    }
   ],
   "source": [
    "print(a)\n",
    "print(b)"
   ]
  },
  {
   "cell_type": "markdown",
   "metadata": {},
   "source": [
    "### 例四：维度不一样"
   ]
  },
  {
   "cell_type": "code",
   "execution_count": 91,
   "metadata": {},
   "outputs": [
    {
     "name": "stdout",
     "output_type": "stream",
     "text": [
      "The dimension of a is  1  and the shape of a is  (5,)\n",
      "The dimension of b is  0  and the shap of b is  ()\n"
     ]
    }
   ],
   "source": [
    "a = np.arange(5)\n",
    "b = np.array(2)\n",
    "print(\"The dimension of a is \",a.ndim, \" and the shape of a is \",a.shape)\n",
    "print(\"The dimension of b is \", b.ndim, \" and the shap of b is \", b.shape)"
   ]
  },
  {
   "cell_type": "code",
   "execution_count": 92,
   "metadata": {},
   "outputs": [
    {
     "name": "stdout",
     "output_type": "stream",
     "text": [
      "[0 1 2 3 4]\n",
      "2\n"
     ]
    }
   ],
   "source": [
    "print(a)\n",
    "print(b)"
   ]
  },
  {
   "cell_type": "code",
   "execution_count": 94,
   "metadata": {},
   "outputs": [
    {
     "name": "stdout",
     "output_type": "stream",
     "text": [
      "The dimension of c is  1  and the shape of c is  (5,) \n",
      "\n",
      "a is  [0 1 2 3 4]\n",
      "b is  2\n",
      "c = a + b = [2 3 4 5 6]\n"
     ]
    }
   ],
   "source": [
    "c = a + b\n",
    "print(\"The dimension of c is \", c.ndim, \" and the shape of c is \", c.shape, '\\n')\n",
    "print(\"a is \", a)\n",
    "print(\"b is \", b)\n",
    "print(\"c = a + b =\", c)"
   ]
  },
  {
   "cell_type": "code",
   "execution_count": 96,
   "metadata": {},
   "outputs": [
    {
     "name": "stdout",
     "output_type": "stream",
     "text": [
      "The dimension of a is  3  and the shape of a is  (1, 2, 3)\n",
      "The dimension of b1 is  2  and the shape of b1 is  (3, 3) \n",
      "\n",
      "The dimension of b2 is  2  and the shape of b2 is  (1, 3) \n",
      "\n",
      "The dimension of b3 is  2  and the shape of b3 is  (2, 3) \n",
      "\n",
      "The dimension of b4 is  3  and the shape of b4 is  (2, 2, 3) \n",
      "\n",
      "The dimension of b5 is  3  and the shape of b5 is  (2, 1, 3)\n"
     ]
    }
   ],
   "source": [
    "a = np.array([[[1,2,3],[4,5,6]]])\n",
    "b1 = np.array([[1,1,1],[2,2,2],[3,3,3]])\n",
    "b2 = np.arange(3).reshape((1,3))\n",
    "b3 = np.arange(6).reshape((2,3))\n",
    "b4 = np.arange(12).reshape((2,2,3))\n",
    "b5 = np.arange(6).reshape((2,1,3))\n",
    "\n",
    "print(\"The dimension of a is \", a.ndim, \" and the shape of a is \", a.shape)\n",
    "print(\"The dimension of b1 is \", b1.ndim, \" and the shape of b1 is \", b1.shape, '\\n')\n",
    "print(\"The dimension of b2 is \", b2.ndim, \" and the shape of b2 is \", b2.shape, '\\n')\n",
    "print(\"The dimension of b3 is \", b3.ndim, \" and the shape of b3 is \", b3.shape, '\\n')\n",
    "print(\"The dimension of b4 is \", b4.ndim, \" and the shape of b4 is \", b4.shape, '\\n')\n",
    "print(\"The dimension of b5 is \", b5.ndim, \" and the shape of b5 is \", b5.shape)"
   ]
  },
  {
   "cell_type": "code",
   "execution_count": 98,
   "metadata": {},
   "outputs": [
    {
     "name": "stdout",
     "output_type": "stream",
     "text": [
      "[[[1 2 3]\n",
      "  [4 5 6]]] \n",
      "\n",
      "[[1 1 1]\n",
      " [2 2 2]\n",
      " [3 3 3]] \n",
      "\n",
      "[[0 1 2]] \n",
      "\n",
      "[[0 1 2]\n",
      " [3 4 5]] \n",
      "\n",
      "[[[ 0  1  2]\n",
      "  [ 3  4  5]]\n",
      "\n",
      " [[ 6  7  8]\n",
      "  [ 9 10 11]]] \n",
      "\n",
      "[[[0 1 2]]\n",
      "\n",
      " [[3 4 5]]] \n",
      "\n"
     ]
    }
   ],
   "source": [
    "print(a,'\\n')\n",
    "print(b1,'\\n')\n",
    "print(b2,'\\n')\n",
    "print(b3,'\\n')\n",
    "print(b4,'\\n')\n",
    "print(b5,'\\n')"
   ]
  },
  {
   "cell_type": "code",
   "execution_count": 99,
   "metadata": {},
   "outputs": [
    {
     "ename": "ValueError",
     "evalue": "operands could not be broadcast together with shapes (1,2,3) (3,3) ",
     "output_type": "error",
     "traceback": [
      "\u001b[1;31m---------------------------------------------------------------------------\u001b[0m",
      "\u001b[1;31mValueError\u001b[0m                                Traceback (most recent call last)",
      "\u001b[1;32m<ipython-input-99-224e02cbb1e0>\u001b[0m in \u001b[0;36m<module>\u001b[1;34m\u001b[0m\n\u001b[1;32m----> 1\u001b[1;33m \u001b[0mc1\u001b[0m \u001b[1;33m=\u001b[0m \u001b[0ma\u001b[0m \u001b[1;33m+\u001b[0m \u001b[0mb1\u001b[0m\u001b[1;33m\u001b[0m\u001b[1;33m\u001b[0m\u001b[0m\n\u001b[0m\u001b[0;32m      2\u001b[0m \u001b[0mprint\u001b[0m\u001b[1;33m(\u001b[0m\u001b[0mc1\u001b[0m\u001b[1;33m)\u001b[0m\u001b[1;33m\u001b[0m\u001b[1;33m\u001b[0m\u001b[0m\n\u001b[0;32m      3\u001b[0m \u001b[0mprint\u001b[0m\u001b[1;33m(\u001b[0m\u001b[0mc1\u001b[0m\u001b[1;33m.\u001b[0m\u001b[0mshape\u001b[0m\u001b[1;33m)\u001b[0m\u001b[1;33m\u001b[0m\u001b[1;33m\u001b[0m\u001b[0m\n",
      "\u001b[1;31mValueError\u001b[0m: operands could not be broadcast together with shapes (1,2,3) (3,3) "
     ]
    }
   ],
   "source": [
    "c1 = a + b1\n",
    "print(c1)\n",
    "print(c1.shape)"
   ]
  },
  {
   "cell_type": "code",
   "execution_count": 101,
   "metadata": {},
   "outputs": [
    {
     "name": "stdout",
     "output_type": "stream",
     "text": [
      "[[[1 3 5]\n",
      "  [4 6 8]]]\n",
      "(1, 2, 3)\n"
     ]
    }
   ],
   "source": [
    "c2 = a + b2\n",
    "print(c2)\n",
    "print(c2.shape)"
   ]
  },
  {
   "cell_type": "code",
   "execution_count": 102,
   "metadata": {},
   "outputs": [
    {
     "name": "stdout",
     "output_type": "stream",
     "text": [
      "[[[ 1  3  5]\n",
      "  [ 7  9 11]]]\n",
      "(1, 2, 3)\n"
     ]
    }
   ],
   "source": [
    "c3 = a + b3\n",
    "print(c3)\n",
    "print(c3.shape)"
   ]
  },
  {
   "cell_type": "code",
   "execution_count": 103,
   "metadata": {},
   "outputs": [
    {
     "name": "stdout",
     "output_type": "stream",
     "text": [
      "[[[ 1  3  5]\n",
      "  [ 7  9 11]]\n",
      "\n",
      " [[ 7  9 11]\n",
      "  [13 15 17]]]\n",
      "(2, 2, 3)\n"
     ]
    }
   ],
   "source": [
    "c4 = a + b4\n",
    "print(c4)\n",
    "print(c4.shape)"
   ]
  },
  {
   "cell_type": "code",
   "execution_count": 104,
   "metadata": {},
   "outputs": [
    {
     "name": "stdout",
     "output_type": "stream",
     "text": [
      "[[[ 1  3  5]\n",
      "  [ 4  6  8]]\n",
      "\n",
      " [[ 4  6  8]\n",
      "  [ 7  9 11]]]\n",
      "(2, 2, 3)\n"
     ]
    }
   ],
   "source": [
    "c5 = a + b5\n",
    "print(c5)\n",
    "print(c5.shape)"
   ]
  },
  {
   "cell_type": "markdown",
   "metadata": {},
   "source": [
    "# 6. 总结\n",
    "\n",
    "学完了数组的创建，数组存载，数组获取，数组变形，数组的计算\n",
    "\n",
    "变形的重要操作：\n",
    "+ 重塑和打平\n",
    "+ 合并和分裂\n",
    "+ 重复和拼接\n",
    "+ 排序插入和删除复制\n",
    "\n",
    "数组有一下重要操作：\n",
    "+ 元素层面：四则运算，函数，比较\n",
    "+ 线性代数：点乘函数 dot()\n",
    "+ 元素整合：轴的概念\n",
    "+ 广播机制：“太重要了，神经网络无处不在！”\n",
    "\n",
    "下篇学习内容：SciPy。Stay Tuned!\n",
    "\n",
    "2019/04/03 00:07 于宿舍。"
   ]
  },
  {
   "cell_type": "code",
   "execution_count": null,
   "metadata": {},
   "outputs": [],
   "source": []
  }
 ],
 "metadata": {
  "kernelspec": {
   "display_name": "Python 3",
   "language": "python",
   "name": "python3"
  },
  "language_info": {
   "codemirror_mode": {
    "name": "ipython",
    "version": 3
   },
   "file_extension": ".py",
   "mimetype": "text/x-python",
   "name": "python",
   "nbconvert_exporter": "python",
   "pygments_lexer": "ipython3",
   "version": "3.6.8"
  }
 },
 "nbformat": 4,
 "nbformat_minor": 2
}
