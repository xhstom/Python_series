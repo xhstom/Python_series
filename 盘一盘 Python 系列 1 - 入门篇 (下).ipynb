{
 "cells": [
  {
   "cell_type": "markdown",
   "metadata": {},
   "source": [
    "# 前言\n",
    "承接上篇，这篇学习的主要内容有：\n",
    "\n",
    "+ 函数\n",
    "+ + 正规函数，匿名函数，偏函数，柯里化\n",
    "+ 解析式\n",
    "+ + 列表，字典，集合解析\n",
    "\n",
    "> [Python 系列1 - 入门篇(下)](https://mp.weixin.qq.com/s?__biz=MzIzMjY0MjE1MA==&mid=2247486498&idx=1&sn=b5409de0fe394c49359eac9b67fb9ce4&key=4c038a0a0f8a008b99d954a595d5b3104c4fca7f6e8b42386bf83751ae387cd36d149cdd14f28218c5d845e7469095fefeb99200df0fe62a0deabafcc6be24eb70b639e9a2a66a6932748ad21e5535aa&ascene=1&uin=NzcyNzU3MDI2&devicetype=Windows+10&version=62060728&lang=zh_CN&pass_ticket=uR7%2BBIFJ%2BZo7q7Zi6H2Av4H6boMRLdUoZq7Ufmwl3bcfUrXq29SPqREU7S4uG9Di)\n",
    "\n",
    "# 4 函数\n",
    "## 4.1 正规函数\n",
    "\n",
    "在 Python 中，可以编写函数来重复地执行某一个任务。函数当中须有一些参数，可以用 IPO 的模式来进行理解，或者用数学上的映射来理解：某参数 a ，经过变换 f 的作用后变成了 f(a) 。如果利用 Python 的正规函数来进行描述的话，可以像下面这样做：\n",
    "\n",
    "``` {Python}\n",
    "def your_function_name(a):\n",
    "    return f(a)\n",
    "```\n",
    "\n",
    "在上述函数的编写中，需要传入一些参数，下面有简单到复杂地给出参数的类型：\n",
    "\n",
    "+ 位置参数(positional argument)\n",
    "+ 默认参数(default argument)\n",
    "+ 可变参数(variable argument)\n",
    "+ 关键字参数(keyword argument)\n",
    "+ 命名关键字参数(name keyword argument)\n",
    "+ 参数组合\n",
    "\n",
    "下面依次进行学习：\n",
    "\n",
    "### 位置参数"
   ]
  },
  {
   "cell_type": "code",
   "execution_count": 8,
   "metadata": {},
   "outputs": [],
   "source": [
    "# define our function\n",
    "def instrument(id):\n",
    "    print('id: ', id)"
   ]
  },
  {
   "cell_type": "code",
   "execution_count": 9,
   "metadata": {},
   "outputs": [
    {
     "name": "stdout",
     "output_type": "stream",
     "text": [
      "id:  MM1001\n"
     ]
    }
   ],
   "source": [
    "# call our function\n",
    "instrument('MM1001')"
   ]
  },
  {
   "cell_type": "code",
   "execution_count": 10,
   "metadata": {},
   "outputs": [],
   "source": [
    "def instrument1(id, ntl):\n",
    "    print('id: ', id)\n",
    "    print('notional: ', ntl)"
   ]
  },
  {
   "cell_type": "code",
   "execution_count": 12,
   "metadata": {},
   "outputs": [
    {
     "name": "stdout",
     "output_type": "stream",
     "text": [
      "id:  MM1001\n",
      "notional:  100000\n"
     ]
    }
   ],
   "source": [
    "instrument1('MM1001', 100000)"
   ]
  },
  {
   "cell_type": "code",
   "execution_count": 13,
   "metadata": {},
   "outputs": [
    {
     "ename": "TypeError",
     "evalue": "instrument1() missing 1 required positional argument: 'ntl'",
     "output_type": "error",
     "traceback": [
      "\u001b[1;31m---------------------------------------------------------------------------\u001b[0m",
      "\u001b[1;31mTypeError\u001b[0m                                 Traceback (most recent call last)",
      "\u001b[1;32m<ipython-input-13-701c45fb5022>\u001b[0m in \u001b[0;36m<module>\u001b[1;34m\u001b[0m\n\u001b[1;32m----> 1\u001b[1;33m \u001b[0minstrument1\u001b[0m\u001b[1;33m(\u001b[0m\u001b[1;34m'MM1001'\u001b[0m\u001b[1;33m)\u001b[0m\u001b[1;33m\u001b[0m\u001b[1;33m\u001b[0m\u001b[0m\n\u001b[0m",
      "\u001b[1;31mTypeError\u001b[0m: instrument1() missing 1 required positional argument: 'ntl'"
     ]
    }
   ],
   "source": [
    "instrument1('MM1001')"
   ]
  },
  {
   "cell_type": "markdown",
   "metadata": {},
   "source": [
    "### 默认参数\n",
    "\n",
    "在上一个 cell 中，程序出现了错误，因此我们有必要对程序进行一定的优化。如利用默认参数进行优化，以避免参数未被赋值的情况"
   ]
  },
  {
   "cell_type": "code",
   "execution_count": 14,
   "metadata": {},
   "outputs": [],
   "source": [
    "def instrument2(id, ntl=1):\n",
    "    print('id: ', id)\n",
    "    print('notional: ', ntl)"
   ]
  },
  {
   "cell_type": "code",
   "execution_count": 15,
   "metadata": {},
   "outputs": [
    {
     "name": "stdout",
     "output_type": "stream",
     "text": [
      "id:  MM1001\n",
      "notional:  1\n"
     ]
    }
   ],
   "source": [
    "#这个时候，我们再来看看程序的调用\n",
    "instrument2('MM1001')\n",
    "\n",
    "#完全没问题！"
   ]
  },
  {
   "cell_type": "code",
   "execution_count": 16,
   "metadata": {},
   "outputs": [
    {
     "name": "stdout",
     "output_type": "stream",
     "text": [
      "id:  MM1001\n",
      "notional:  100\n"
     ]
    }
   ],
   "source": [
    "#修改一下默认值试试\n",
    "instrument2('MM1001', 100)\n",
    "\n",
    "# it's ok!"
   ]
  },
  {
   "cell_type": "markdown",
   "metadata": {},
   "source": [
    "> 知识点：默认参数要放在位置参数后面，否则会报错，如下面的例子。"
   ]
  },
  {
   "cell_type": "code",
   "execution_count": 17,
   "metadata": {},
   "outputs": [
    {
     "ename": "SyntaxError",
     "evalue": "non-default argument follows default argument (<ipython-input-17-e3e53802292a>, line 1)",
     "output_type": "error",
     "traceback": [
      "\u001b[1;36m  File \u001b[1;32m\"<ipython-input-17-e3e53802292a>\"\u001b[1;36m, line \u001b[1;32m1\u001b[0m\n\u001b[1;33m    def instrument2_pos(ntl=1, id):\u001b[0m\n\u001b[1;37m                       ^\u001b[0m\n\u001b[1;31mSyntaxError\u001b[0m\u001b[1;31m:\u001b[0m non-default argument follows default argument\n"
     ]
    }
   ],
   "source": [
    "def instrument2_pos(ntl=1, id):\n",
    "    print('id: ', id)\n",
    "    print('notional: ', ntl)"
   ]
  },
  {
   "cell_type": "code",
   "execution_count": 18,
   "metadata": {},
   "outputs": [],
   "source": [
    "#多个默认参数编写\n",
    "def instrument3(id, ntl=1, curR='CNY'):\n",
    "    print('id: ', id)\n",
    "    print('notional: ', ntl)\n",
    "    print('reporting currency:', curR)"
   ]
  },
  {
   "cell_type": "code",
   "execution_count": 19,
   "metadata": {},
   "outputs": [
    {
     "name": "stdout",
     "output_type": "stream",
     "text": [
      "id:  MM1001\n",
      "notional:  100\n",
      "reporting currency: USD\n"
     ]
    }
   ],
   "source": [
    "#赋值试试\n",
    "instrument3('MM1001', 100, 'USD')"
   ]
  },
  {
   "cell_type": "code",
   "execution_count": 20,
   "metadata": {},
   "outputs": [
    {
     "name": "stdout",
     "output_type": "stream",
     "text": [
      "id:  MM1001\n",
      "notional:  USD\n",
      "reporting currency: 100\n"
     ]
    }
   ],
   "source": [
    "#如果参数的位置不对，返回也会有错误，例如下面的例子。\n",
    "instrument3('MM1001', 'USD', 100)"
   ]
  },
  {
   "cell_type": "code",
   "execution_count": 21,
   "metadata": {},
   "outputs": [
    {
     "name": "stdout",
     "output_type": "stream",
     "text": [
      "id:  MM1001\n",
      "notional:  100\n",
      "reporting currency: USD\n"
     ]
    }
   ],
   "source": [
    "#可以利用位置参数来赋值，这样可以避免记不住参数的问题\n",
    "instrument3('MM1001', curR = 'USD', ntl=100)"
   ]
  },
  {
   "cell_type": "markdown",
   "metadata": {},
   "source": [
    "### 可变参数\n",
    "许多时候，输入的参数可能会超过目前的参数范围，此时就需要利用 Python 中的可变参数来获得用户的输入参数了。例如："
   ]
  },
  {
   "cell_type": "code",
   "execution_count": 22,
   "metadata": {},
   "outputs": [],
   "source": [
    "def instrument4(id, ntl=1, curR='CNY', *args):\n",
    "    PV = 0\n",
    "    for n in args:\n",
    "        PV = PV + n\n",
    "        \n",
    "    print('id: ', id)\n",
    "    print('notional: ', ntl)\n",
    "    print('reporting currency: ', curR)\n",
    "    print('present value: ', PV*ntl)"
   ]
  },
  {
   "cell_type": "code",
   "execution_count": 23,
   "metadata": {},
   "outputs": [
    {
     "name": "stdout",
     "output_type": "stream",
     "text": [
      "id:  MM1001\n",
      "notional:  100\n",
      "reporting currency:  EUR\n",
      "present value:  600\n"
     ]
    }
   ],
   "source": [
    "#we can call instrument4\n",
    "instrument4('MM1001', 100, 'EUR', 1, 2, 3)"
   ]
  },
  {
   "cell_type": "markdown",
   "metadata": {},
   "source": [
    "或者也可以像下面这样进行输入参数。这里需要注意的是 * 表示的意思是通配符。"
   ]
  },
  {
   "cell_type": "code",
   "execution_count": 25,
   "metadata": {},
   "outputs": [
    {
     "name": "stdout",
     "output_type": "stream",
     "text": [
      "id:  MM1001\n",
      "notional:  10\n",
      "reporting currency:  EUR\n",
      "present value:  210\n"
     ]
    }
   ],
   "source": [
    "DCF = (1,2,3,4,5,6)\n",
    "instrument4('MM1001', 10, 'EUR', *DCF)"
   ]
  },
  {
   "cell_type": "markdown",
   "metadata": {},
   "source": [
    "可变参数的输入：\n",
    "+ 直接输入，func(1,2,3)\n",
    "+ 先组装成列表或者元祖后，通过 *args 拆解传入，func(*[1,2,3]),func(*(1,2,3))\n",
    "\n",
    "### 关键字参数\n",
    "针对字典而言，具体见下面的例子。\n",
    "\n",
    "可变参数和关键字参数的区别：\n",
    "+ 可变参数允许传入任意个参数，并且自动组装成元祖\n",
    "+ 关键字参数允许传入人一个参数，并且自动组装成字典"
   ]
  },
  {
   "cell_type": "code",
   "execution_count": 26,
   "metadata": {},
   "outputs": [],
   "source": [
    "def instrument5(id, ntl=1, curR=\"CNY\", *args, **kw):\n",
    "    PV = 0\n",
    "    for n in args:\n",
    "        PV += n\n",
    "        \n",
    "    print('id: ', id)\n",
    "    print('notional: ', ntl)\n",
    "    print('present value: ', PV*ntl)\n",
    "    print('keyword: ', kw)"
   ]
  },
  {
   "cell_type": "code",
   "execution_count": 27,
   "metadata": {},
   "outputs": [
    {
     "name": "stdout",
     "output_type": "stream",
     "text": [
      "id:  MM1001\n",
      "notional:  100\n",
      "present value:  600\n",
      "keyword:  {}\n"
     ]
    }
   ],
   "source": [
    "instrument5('MM1001', 100, 'EUR', 1,2,3)"
   ]
  },
  {
   "cell_type": "code",
   "execution_count": 28,
   "metadata": {},
   "outputs": [
    {
     "name": "stdout",
     "output_type": "stream",
     "text": [
      "id:  MM1001\n",
      "notional:  100\n",
      "present value:  600\n",
      "keyword:  {'ctp': 'GS'}\n"
     ]
    }
   ],
   "source": [
    "instrument5('MM1001', 100, 'EUR', 1,2,3,ctp='GS')"
   ]
  },
  {
   "cell_type": "code",
   "execution_count": 29,
   "metadata": {},
   "outputs": [
    {
     "name": "stdout",
     "output_type": "stream",
     "text": [
      "id:  MM1001\n",
      "notional:  100\n",
      "present value:  600\n",
      "keyword:  {'dc': 'act/365', 'ctp': 'GS'}\n"
     ]
    }
   ],
   "source": [
    "#recall it\n",
    "instrument5('MM1001', 100, 'EUR', 1,2,3,\n",
    "           dc='act/365', ctp='GS')"
   ]
  },
  {
   "cell_type": "code",
   "execution_count": 30,
   "metadata": {},
   "outputs": [
    {
     "name": "stdout",
     "output_type": "stream",
     "text": [
      "id:  MM1001\n",
      "notional:  10\n",
      "present value:  170\n",
      "keyword:  {'dc': 'act/365', 'bdc': 'following'}\n"
     ]
    }
   ],
   "source": [
    "#类似于可变参数，可以利用 ** 拆散字典，获得相应的键值对\n",
    "DCF = (1,2,3,5,6)\n",
    "Conv = {'dc':'act/365', 'bdc':'following'}\n",
    "instrument5('MM1001', 10, 'EUR', *DCF, **Conv)"
   ]
  },
  {
   "cell_type": "markdown",
   "metadata": {},
   "source": [
    "### 命名关键字参数\n",
    "如果要使用命名关键字参数，可以在参数的前面加上通配符 *\n"
   ]
  },
  {
   "cell_type": "code",
   "execution_count": 31,
   "metadata": {},
   "outputs": [],
   "source": [
    "def instrument6(id, ntl=1, curR='CNY', *,ctp, **kw):\n",
    "    print('id: ', id)\n",
    "    print('notional: ', ntl)\n",
    "    print('reporting currency: ', curR)\n",
    "    print('counterparty: ', ctp)\n",
    "    print('keyword: ', kw)"
   ]
  },
  {
   "cell_type": "code",
   "execution_count": 32,
   "metadata": {},
   "outputs": [
    {
     "name": "stdout",
     "output_type": "stream",
     "text": [
      "id:  MM1001\n",
      "notional:  100\n",
      "reporting currency:  EUR\n",
      "counterparty:  GS\n",
      "keyword:  {'dc': 'act/365'}\n"
     ]
    }
   ],
   "source": [
    "instrument6('MM1001', 100, 'EUR', dc='act/365', ctp='GS')"
   ]
  },
  {
   "cell_type": "markdown",
   "metadata": {},
   "source": [
    "需要注意的是，命名关键字的传入不可以缺少参数名。"
   ]
  },
  {
   "cell_type": "code",
   "execution_count": 33,
   "metadata": {},
   "outputs": [
    {
     "ename": "TypeError",
     "evalue": "instrument6() takes from 1 to 3 positional arguments but 4 were given",
     "output_type": "error",
     "traceback": [
      "\u001b[1;31m---------------------------------------------------------------------------\u001b[0m",
      "\u001b[1;31mTypeError\u001b[0m                                 Traceback (most recent call last)",
      "\u001b[1;32m<ipython-input-33-3f59222740c7>\u001b[0m in \u001b[0;36m<module>\u001b[1;34m\u001b[0m\n\u001b[1;32m----> 1\u001b[1;33m \u001b[0minstrument6\u001b[0m\u001b[1;33m(\u001b[0m\u001b[1;34m'MM1001'\u001b[0m\u001b[1;33m,\u001b[0m \u001b[1;36m100\u001b[0m\u001b[1;33m,\u001b[0m \u001b[1;34m'EUR'\u001b[0m\u001b[1;33m,\u001b[0m \u001b[1;34m'GS'\u001b[0m\u001b[1;33m,\u001b[0m \u001b[0mdc\u001b[0m\u001b[1;33m=\u001b[0m\u001b[1;34m'act/365'\u001b[0m\u001b[1;33m)\u001b[0m\u001b[1;33m\u001b[0m\u001b[1;33m\u001b[0m\u001b[0m\n\u001b[0m",
      "\u001b[1;31mTypeError\u001b[0m: instrument6() takes from 1 to 3 positional arguments but 4 were given"
     ]
    }
   ],
   "source": [
    "instrument6('MM1001', 100, 'EUR', 'GS', dc='act/365')"
   ]
  },
  {
   "cell_type": "markdown",
   "metadata": {},
   "source": [
    "### 参数组合\n",
    "\n",
    "在 Python 中，位置参数，默认参数，可变参数，命名关键字参数和关键字参数可以一起使用，但有定义的顺序：\n",
    "\n",
    "+ 位置参数，默认参数，可变参数，关键字参数\n",
    "+ 位置参数，默认参数，命名关键字参数，关键字参数\n",
    "\n",
    "可变参数和关键字参数：\n",
    "+ *args为可变参数，args接收的是一个tuple\n",
    "+ **kw 关键字参数，kw接收的是一个 dict\n",
    "\n",
    "命名关键字参数是为了限制调用者可以传入的参数名，也可以提供默认值。定义命名关键字参数时需要加上通配符 * ，否则就会变成位置参数。\n",
    "\n",
    "## 4.2 匿名函数\n",
    "\n",
    "Python 中的两种函数：\n",
    "+ def 定义的正规函数\n",
    "+ lambda 关键词定义的匿名函数\n",
    "\n",
    "匿名函数(anonymous function)的使用方法：\n",
    "\n",
    "lambda your argument_list:your expression"
   ]
  },
  {
   "cell_type": "code",
   "execution_count": 34,
   "metadata": {},
   "outputs": [
    {
     "data": {
      "text/plain": [
       "20"
      ]
     },
     "execution_count": 34,
     "metadata": {},
     "output_type": "execute_result"
    }
   ],
   "source": [
    "myfunc = lambda x, y: x*y\n",
    "myfunc(4,5)"
   ]
  },
  {
   "cell_type": "code",
   "execution_count": 35,
   "metadata": {},
   "outputs": [
    {
     "data": {
      "text/plain": [
       "8"
      ]
     },
     "execution_count": 35,
     "metadata": {},
     "output_type": "execute_result"
    }
   ],
   "source": [
    "my_sum = lambda *args:sum(args)\n",
    "my_sum(1,2,5)"
   ]
  },
  {
   "cell_type": "code",
   "execution_count": 36,
   "metadata": {},
   "outputs": [
    {
     "data": {
      "text/plain": [
       "1"
      ]
     },
     "execution_count": 36,
     "metadata": {},
     "output_type": "execute_result"
    }
   ],
   "source": [
    "any_func = lambda **kwargs: 1\n",
    "any_func(name='tom', age='22')"
   ]
  },
  {
   "cell_type": "markdown",
   "metadata": {},
   "source": [
    "### 匿名函数与正规函数"
   ]
  },
  {
   "cell_type": "code",
   "execution_count": 37,
   "metadata": {},
   "outputs": [
    {
     "data": {
      "text/plain": [
       "<function __main__.<lambda>(x)>"
      ]
     },
     "execution_count": 37,
     "metadata": {},
     "output_type": "execute_result"
    }
   ],
   "source": [
    "lbd_sqr = lambda x: x ** 2\n",
    "lbd_sqr"
   ]
  },
  {
   "cell_type": "code",
   "execution_count": 38,
   "metadata": {},
   "outputs": [
    {
     "data": {
      "text/plain": [
       "<function __main__.sqr(x)>"
      ]
     },
     "execution_count": 38,
     "metadata": {},
     "output_type": "execute_result"
    }
   ],
   "source": [
    "def sqr(x):\n",
    "    return x ** 2\n",
    "\n",
    "sqr"
   ]
  },
  {
   "cell_type": "code",
   "execution_count": 39,
   "metadata": {},
   "outputs": [
    {
     "name": "stdout",
     "output_type": "stream",
     "text": [
      "True\n"
     ]
    }
   ],
   "source": [
    "print(sqr(9) == lbd_sqr(9))"
   ]
  },
  {
   "cell_type": "markdown",
   "metadata": {},
   "source": [
    "#### 匿名函数的过用(overuse)和误用(misuse)\n",
    "##### Misuse\n",
    "\n",
    "误用的情况：若lambda函数只是赋值给一个变量，用def定义的正规函数"
   ]
  },
  {
   "cell_type": "code",
   "execution_count": 40,
   "metadata": {},
   "outputs": [
    {
     "name": "stdout",
     "output_type": "stream",
     "text": [
      "<function <lambda> at 0x0000020255845840>\n",
      "<function sqr at 0x00000202558610D0>\n"
     ]
    }
   ],
   "source": [
    "lbd_sqr = lambda x: x ** 2\n",
    "def sqr(x): x ** 2\n",
    "\n",
    "print(lbd_sqr)\n",
    "print(sqr)"
   ]
  },
  {
   "cell_type": "markdown",
   "metadata": {},
   "source": [
    "##### Overuse\n",
    "\n",
    "一个函数比较重要的话，就使用 def 定义的函数，这样的话比较好理解。"
   ]
  },
  {
   "cell_type": "code",
   "execution_count": 41,
   "metadata": {},
   "outputs": [
    {
     "data": {
      "text/plain": [
       "['Cyan', 'Goldenrod', 'purple', 'salmon']"
      ]
     },
     "execution_count": 41,
     "metadata": {},
     "output_type": "execute_result"
    }
   ],
   "source": [
    "#根据字符长度和首个字母对列表排序\n",
    "colors = ['Goldenrod', 'purple', 'salmon', 'Cyan']\n",
    "sorted(colors)"
   ]
  },
  {
   "cell_type": "code",
   "execution_count": 42,
   "metadata": {},
   "outputs": [
    {
     "data": {
      "text/plain": [
       "['Cyan', 'purple', 'salmon', 'Goldenrod']"
      ]
     },
     "execution_count": 42,
     "metadata": {},
     "output_type": "execute_result"
    }
   ],
   "source": [
    "sorted(colors, key=lambda c: (len(c), c.casefold()))"
   ]
  },
  {
   "cell_type": "code",
   "execution_count": 48,
   "metadata": {},
   "outputs": [
    {
     "name": "stdout",
     "output_type": "stream",
     "text": [
      "GOLDENROD\n",
      "goldenrod\n",
      "Goldenrod\n",
      "Goldenrod\n",
      "PURPLE\n",
      "purple\n",
      "Purple\n",
      "Purple\n",
      "SALMON\n",
      "salmon\n",
      "Salmon\n",
      "Salmon\n",
      "CYAN\n",
      "cyan\n",
      "Cyan\n",
      "Cyan\n"
     ]
    }
   ],
   "source": [
    "for color in colors:\n",
    "    print(color.upper())#大写\n",
    "    print(color.lower())#小写\n",
    "    print(color.capitalize())\n",
    "    print(color.title())"
   ]
  },
  {
   "cell_type": "code",
   "execution_count": 50,
   "metadata": {},
   "outputs": [
    {
     "data": {
      "text/plain": [
       "['Cyan', 'purple', 'salmon', 'Goldenrod']"
      ]
     },
     "execution_count": 50,
     "metadata": {},
     "output_type": "execute_result"
    }
   ],
   "source": [
    "#用def定义的函数重新排序\n",
    "def length_and_alphabetical(str):\n",
    "    '''Return sort key: length first, then caseless string.'''\n",
    "    return (len(str), str.casefold())\n",
    "\n",
    "sorted(colors, key = length_and_alphabetical)"
   ]
  },
  {
   "cell_type": "markdown",
   "metadata": {},
   "source": [
    "## 4.3 高阶函数\n",
    "\n",
    "It is so normal for high-order function in functional programming and there are two forms mainly:\n",
    "\n",
    "+ 参数是函数(map, filter,reduce)\n",
    "+ 返回值是函数(closure,partial,currying)\n",
    "\n",
    "### Map,Filter,Reduce"
   ]
  },
  {
   "cell_type": "code",
   "execution_count": 51,
   "metadata": {},
   "outputs": [
    {
     "name": "stdout",
     "output_type": "stream",
     "text": [
      "<map object at 0x000002025586A0B8>\n",
      "[1, 4, 9, 16, 25, 36]\n"
     ]
    }
   ],
   "source": [
    "lst = [1,2,3,4,5,6]\n",
    "map_iter = map(lambda x: x ** 2, lst)\n",
    "print(map_iter)#返回迭代器\n",
    "print(list(map_iter))\n",
    "\n",
    "#map_iter并没有直接返回列表的形式\n",
    "#这是因为惰性求值的存在，即用到的时候返回，不用的时候就放在那里\n",
    "#就比如喝水一样，如果你口渴的话喝一点，不口渴的话，就不喝"
   ]
  },
  {
   "cell_type": "code",
   "execution_count": 52,
   "metadata": {},
   "outputs": [
    {
     "name": "stdout",
     "output_type": "stream",
     "text": [
      "<filter object at 0x000002025586A160>\n",
      "[1, 3, 5]\n"
     ]
    }
   ],
   "source": [
    "#过滤筛选\n",
    "filter_iter = filter(lambda n: n % 2 == 1,lst)\n",
    "print(filter_iter)\n",
    "print(list(filter_iter))"
   ]
  },
  {
   "cell_type": "code",
   "execution_count": 53,
   "metadata": {},
   "outputs": [
    {
     "data": {
      "text/plain": [
       "21"
      ]
     },
     "execution_count": 53,
     "metadata": {},
     "output_type": "execute_result"
    }
   ],
   "source": [
    "from functools import reduce\n",
    "\n",
    "reduce(lambda x, y: x+y, lst)#累积"
   ]
  },
  {
   "cell_type": "code",
   "execution_count": 54,
   "metadata": {},
   "outputs": [],
   "source": [
    "#可以自己定义高阶函数\n",
    "def apply_to_list(fun,some_list):\n",
    "    '''fun 函数是可以作用到列表的某个函数'''\n",
    "    return fun(some_list)"
   ]
  },
  {
   "cell_type": "code",
   "execution_count": 55,
   "metadata": {},
   "outputs": [
    {
     "name": "stdout",
     "output_type": "stream",
     "text": [
      "15\n",
      "6\n",
      "2.5\n"
     ]
    }
   ],
   "source": [
    "lst = list(range(6))\n",
    "print(apply_to_list(sum,lst))\n",
    "print(apply_to_list(len,lst))\n",
    "print(apply_to_list(lambda x: sum(x)/len(x),lst))"
   ]
  },
  {
   "cell_type": "markdown",
   "metadata": {},
   "source": [
    "### 闭包\n",
    "\n",
    "Python 中的闭包(closure)属于第二种高阶函数，返回值是函数，如下面的例子："
   ]
  },
  {
   "cell_type": "code",
   "execution_count": 56,
   "metadata": {},
   "outputs": [],
   "source": [
    "def make_counter(init):\n",
    "    counter = [init]\n",
    "    \n",
    "    def inc(): counter[0] += 1 #续一秒\n",
    "    def dec(): counter[0] -= 1 #废一秒\n",
    "    def get(): return counter[0] #查看秒数\n",
    "    def reset(): counter[0] = init #重置\n",
    "        \n",
    "    #返回函数\n",
    "    return inc, dec, get, reset\n",
    "        \n",
    "    "
   ]
  },
  {
   "cell_type": "code",
   "execution_count": 57,
   "metadata": {},
   "outputs": [
    {
     "data": {
      "text/plain": [
       "3"
      ]
     },
     "execution_count": 57,
     "metadata": {},
     "output_type": "execute_result"
    }
   ],
   "source": [
    "inc, dec, get, reset = make_counter(0)\n",
    "inc()\n",
    "inc()\n",
    "inc()\n",
    "get()"
   ]
  },
  {
   "cell_type": "code",
   "execution_count": 58,
   "metadata": {},
   "outputs": [
    {
     "data": {
      "text/plain": [
       "2"
      ]
     },
     "execution_count": 58,
     "metadata": {},
     "output_type": "execute_result"
    }
   ],
   "source": [
    "dec()\n",
    "get()"
   ]
  },
  {
   "cell_type": "code",
   "execution_count": 59,
   "metadata": {},
   "outputs": [
    {
     "data": {
      "text/plain": [
       "0"
      ]
     },
     "execution_count": 59,
     "metadata": {},
     "output_type": "execute_result"
    }
   ],
   "source": [
    "reset()\n",
    "get()"
   ]
  },
  {
   "cell_type": "markdown",
   "metadata": {},
   "source": [
    "第二类的高阶函数还有 偏函数 和 柯里化\n",
    "\n",
    "## 4.4 偏函数\n",
    "\n",
    "偏函数就是指将某个函数中的一个或者多个参数固定下来用于专门的函数上面"
   ]
  },
  {
   "cell_type": "code",
   "execution_count": 60,
   "metadata": {},
   "outputs": [],
   "source": [
    "from functools import partial"
   ]
  },
  {
   "cell_type": "code",
   "execution_count": 61,
   "metadata": {},
   "outputs": [
    {
     "data": {
      "text/plain": [
       "[1, 2, 3, 4, 5]"
      ]
     },
     "execution_count": 61,
     "metadata": {},
     "output_type": "execute_result"
    }
   ],
   "source": [
    "lst = [3,1,2,5,4]\n",
    "sorted(lst)"
   ]
  },
  {
   "cell_type": "code",
   "execution_count": 62,
   "metadata": {},
   "outputs": [
    {
     "data": {
      "text/plain": [
       "[5, 4, 3, 2, 1]"
      ]
     },
     "execution_count": 62,
     "metadata": {},
     "output_type": "execute_result"
    }
   ],
   "source": [
    "sorted(lst, reverse=True)"
   ]
  },
  {
   "cell_type": "code",
   "execution_count": 63,
   "metadata": {},
   "outputs": [
    {
     "data": {
      "text/plain": [
       "functools.partial(<built-in function sorted>, reverse=True)"
      ]
     },
     "execution_count": 63,
     "metadata": {},
     "output_type": "execute_result"
    }
   ],
   "source": [
    "#固定参数\n",
    "sorted_dec = partial(sorted, reverse=True)#固定原函数参数\n",
    "sorted_dec"
   ]
  },
  {
   "cell_type": "code",
   "execution_count": 64,
   "metadata": {},
   "outputs": [
    {
     "data": {
      "text/plain": [
       "[5, 4, 3, 2, 1]"
      ]
     },
     "execution_count": 64,
     "metadata": {},
     "output_type": "execute_result"
    }
   ],
   "source": [
    "#应该sorted_dec\n",
    "sorted_dec(lst)"
   ]
  },
  {
   "cell_type": "markdown",
   "metadata": {},
   "source": [
    "## 4.5 柯里化\n",
    "\n",
    "就是将一个函数中的某些个参数变成叫少的参数所形成的函数。见具体的例子. 有点像数学中，参数的意味。"
   ]
  },
  {
   "cell_type": "code",
   "execution_count": 65,
   "metadata": {},
   "outputs": [],
   "source": [
    "#普通加法\n",
    "def add1(x,y):\n",
    "    return x+y"
   ]
  },
  {
   "cell_type": "code",
   "execution_count": 66,
   "metadata": {},
   "outputs": [],
   "source": [
    "#柯里化\n",
    "def add2(x):\n",
    "    def add(y):\n",
    "        return x+y\n",
    "    #返回函数\n",
    "    return add"
   ]
  },
  {
   "cell_type": "code",
   "execution_count": 67,
   "metadata": {},
   "outputs": [
    {
     "data": {
      "text/plain": [
       "<function __main__.add2.<locals>.add(y)>"
      ]
     },
     "execution_count": 67,
     "metadata": {},
     "output_type": "execute_result"
    }
   ],
   "source": [
    "add1\n",
    "add2\n",
    "g = add2(2)\n",
    "g"
   ]
  },
  {
   "cell_type": "code",
   "execution_count": 68,
   "metadata": {},
   "outputs": [
    {
     "name": "stdout",
     "output_type": "stream",
     "text": [
      "5\n",
      "5\n",
      "5\n"
     ]
    }
   ],
   "source": [
    "print(add1(2,3))\n",
    "print(add2(2)(3))\n",
    "print(g(3))"
   ]
  },
  {
   "cell_type": "markdown",
   "metadata": {},
   "source": [
    "# 5 解析式 \n",
    "## 5.1 大框架\n",
    "\n",
    "解析式(comprehension)是将一个可迭代对象转换成成另外一个可迭代对象工具。\n",
    "\n",
    "容器类型数据(str,tuple,list,dict,set)都是可迭代对象。\n",
    "\n",
    "可迭代类型：\n",
    "+ 可迭代对象：可以是任何容器类型数据\n",
    "+ 可迭代对象，看什么类型解析式\n",
    "+ + 列表\n",
    "+ + 字典\n",
    "+ + 集合\n",
    "\n",
    "## 5.2 列表解析式\n",
    "\n",
    "new = [f(item) for item in old if cond(item)]"
   ]
  },
  {
   "cell_type": "code",
   "execution_count": 69,
   "metadata": {},
   "outputs": [
    {
     "data": {
      "text/plain": [
       "[1, 3, 5]"
      ]
     },
     "execution_count": 69,
     "metadata": {},
     "output_type": "execute_result"
    }
   ],
   "source": [
    "lst = [1,2,3,4,5]\n",
    "odds = []\n",
    "for n in lst:\n",
    "    if n % 2 ==1:\n",
    "        odds.append(n)\n",
    "\n",
    "odds"
   ]
  },
  {
   "cell_type": "code",
   "execution_count": 70,
   "metadata": {},
   "outputs": [
    {
     "data": {
      "text/plain": [
       "[1, 3, 5]"
      ]
     },
     "execution_count": 70,
     "metadata": {},
     "output_type": "execute_result"
    }
   ],
   "source": [
    "odds = [n for n in lst if n % 2 ==1]\n",
    "odds"
   ]
  },
  {
   "cell_type": "code",
   "execution_count": 73,
   "metadata": {},
   "outputs": [],
   "source": [
    "mylst = [[1,2,3],[4,5,6,9]]\n",
    "flattened = []\n",
    "for row in mylst:\n",
    "    for n in row:\n",
    "        flattened.append(n)"
   ]
  },
  {
   "cell_type": "code",
   "execution_count": 74,
   "metadata": {},
   "outputs": [
    {
     "data": {
      "text/plain": [
       "[1, 2, 3, 4, 5, 6, 9]"
      ]
     },
     "execution_count": 74,
     "metadata": {},
     "output_type": "execute_result"
    }
   ],
   "source": [
    "flattened"
   ]
  },
  {
   "cell_type": "code",
   "execution_count": 75,
   "metadata": {},
   "outputs": [
    {
     "data": {
      "text/plain": [
       "[1, 2, 3, 4, 5, 6, 9]"
      ]
     },
     "execution_count": 75,
     "metadata": {},
     "output_type": "execute_result"
    }
   ],
   "source": [
    "flatten = [n for row in mylst for n in row]\n",
    "flatten"
   ]
  },
  {
   "cell_type": "code",
   "execution_count": 77,
   "metadata": {},
   "outputs": [
    {
     "data": {
      "text/plain": [
       "[2, 6, 10]"
      ]
     },
     "execution_count": 77,
     "metadata": {},
     "output_type": "execute_result"
    }
   ],
   "source": [
    "[n*2 for n in lst if n%2 == 1]"
   ]
  },
  {
   "cell_type": "markdown",
   "metadata": {},
   "source": [
    "## 5.3 小例子\n"
   ]
  },
  {
   "cell_type": "code",
   "execution_count": 78,
   "metadata": {},
   "outputs": [
    {
     "data": {
      "text/plain": [
       "[1, 2, 3, 4, 5, 6, 7, 8, 9]"
      ]
     },
     "execution_count": 78,
     "metadata": {},
     "output_type": "execute_result"
    }
   ],
   "source": [
    "tup = ((1,2,3),(4,5,6),(7,8,9))\n",
    "\n",
    "myfla = [x for t in tup for x in t]\n",
    "myfla"
   ]
  },
  {
   "cell_type": "code",
   "execution_count": 79,
   "metadata": {},
   "outputs": [
    {
     "data": {
      "text/plain": [
       "[[1, 2, 3], [4, 5, 6], [7, 8, 9]]"
      ]
     },
     "execution_count": 79,
     "metadata": {},
     "output_type": "execute_result"
    }
   ],
   "source": [
    "[[x for x in t] for t in tup]"
   ]
  },
  {
   "cell_type": "markdown",
   "metadata": {},
   "source": [
    "### 复杂例子"
   ]
  },
  {
   "cell_type": "code",
   "execution_count": 80,
   "metadata": {},
   "outputs": [
    {
     "data": {
      "text/plain": [
       "[1, 2, 3, 4, 5, 6, 7, 8]"
      ]
     },
     "execution_count": 80,
     "metadata": {},
     "output_type": "execute_result"
    }
   ],
   "source": [
    "a = [1,2,[3,4],[[5,6],[7,8]]]\n",
    "def f(x):\n",
    "    if type(x) is list:\n",
    "        return [y for l in x for y in f(l)]\n",
    "    else:\n",
    "        return [x]\n",
    "\n",
    "f(a)"
   ]
  },
  {
   "cell_type": "code",
   "execution_count": 91,
   "metadata": {},
   "outputs": [
    {
     "data": {
      "text/plain": [
       "[1, 2, 3, 4, 5, 6, 7, 8]"
      ]
     },
     "execution_count": 91,
     "metadata": {},
     "output_type": "execute_result"
    }
   ],
   "source": [
    "g = lambda x: [y for l in x for y in g(l)] if type(x) is list else [x]\n",
    "                     \n",
    "g(a)"
   ]
  },
  {
   "cell_type": "markdown",
   "metadata": {},
   "source": [
    "# 6 总结"
   ]
  },
  {
   "cell_type": "code",
   "execution_count": 92,
   "metadata": {},
   "outputs": [
    {
     "name": "stdout",
     "output_type": "stream",
     "text": [
      "The Zen of Python, by Tim Peters\n",
      "\n",
      "Beautiful is better than ugly.\n",
      "Explicit is better than implicit.\n",
      "Simple is better than complex.\n",
      "Complex is better than complicated.\n",
      "Flat is better than nested.\n",
      "Sparse is better than dense.\n",
      "Readability counts.\n",
      "Special cases aren't special enough to break the rules.\n",
      "Although practicality beats purity.\n",
      "Errors should never pass silently.\n",
      "Unless explicitly silenced.\n",
      "In the face of ambiguity, refuse the temptation to guess.\n",
      "There should be one-- and preferably only one --obvious way to do it.\n",
      "Although that way may not be obvious at first unless you're Dutch.\n",
      "Now is better than never.\n",
      "Although never is often better than *right* now.\n",
      "If the implementation is hard to explain, it's a bad idea.\n",
      "If the implementation is easy to explain, it may be a good idea.\n",
      "Namespaces are one honking great idea -- let's do more of those!\n"
     ]
    }
   ],
   "source": [
    "import this"
   ]
  },
  {
   "cell_type": "code",
   "execution_count": null,
   "metadata": {},
   "outputs": [],
   "source": []
  }
 ],
 "metadata": {
  "kernelspec": {
   "display_name": "Python 3",
   "language": "python",
   "name": "python3"
  },
  "language_info": {
   "codemirror_mode": {
    "name": "ipython",
    "version": 3
   },
   "file_extension": ".py",
   "mimetype": "text/x-python",
   "name": "python",
   "nbconvert_exporter": "python",
   "pygments_lexer": "ipython3",
   "version": "3.6.8"
  }
 },
 "nbformat": 4,
 "nbformat_minor": 2
}
